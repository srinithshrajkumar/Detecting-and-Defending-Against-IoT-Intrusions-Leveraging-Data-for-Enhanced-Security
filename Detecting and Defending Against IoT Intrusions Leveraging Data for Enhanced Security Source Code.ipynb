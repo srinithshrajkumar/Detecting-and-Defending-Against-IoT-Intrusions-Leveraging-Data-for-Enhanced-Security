{
  "cells": [
    {
      "cell_type": "markdown",
      "metadata": {
        "id": "16TiaYtCiO0X"
      },
      "source": [
        "#**IOT INTRUSION DETECTION**\n",
        "\n",
        "# **IOT**\n",
        "\n",
        " IoT stands for the \"**Internet** of Things\". It refers  the network of physical objects or things  with sensors, software, and other technologies that enable them to collect and exchange data over the internet.\n",
        "\n",
        "# **Introduction**\n",
        "\n",
        "IOT intrusion detrction is used to detect the malicious and unwanted activity in the iot network system.Like thefting the data,malware attack.\n",
        " IDS is a system used to alert the attacks from the network.It is used to protect from the attacks.the benifits of IDS is to increasing the security,alert warings,etc..\n",
        "\n",
        " Intrusion detection system are necessary to address emerging threats and vulnerabilities in the dynamic IoT landscape"
      ]
    },
    {
      "cell_type": "markdown",
      "metadata": {
        "id": "6kHX_y9Bpi5X"
      },
      "source": [
        "# **Importing Required Libraries**"
      ]
    },
    {
      "cell_type": "code",
      "execution_count": 1,
      "metadata": {
        "id": "Ij6bGlo2sbbI"
      },
      "outputs": [],
      "source": [
        "import numpy as np\n",
        "import pandas as pd\n",
        "\n",
        "import seaborn as sns\n",
        "import matplotlib.pyplot as plt\n",
        "\n",
        "import pickle\n",
        "from os import path\n",
        "\n",
        "from sklearn.preprocessing import MinMaxScaler\n",
        "from sklearn.preprocessing import StandardScaler\n",
        "from sklearn.preprocessing import LabelEncoder\n",
        "\n",
        "from sklearn import metrics\n",
        "from sklearn import preprocessing\n",
        "from sklearn.metrics import accuracy_score\n",
        "from sklearn.model_selection import train_test_split\n",
        "from sklearn.metrics import classification_report"
      ]
    },
    {
      "cell_type": "markdown",
      "metadata": {
        "id": "pHO6SBj0L7Wx"
      },
      "source": [
        "# **IMPORTING** THE DATASET"
      ]
    },
    {
      "cell_type": "markdown",
      "metadata": {
        "id": "M-sf1a9ks8xK"
      },
      "source": [
        "Dataset is defined as df in the model"
      ]
    },
    {
      "cell_type": "code",
      "execution_count": null,
      "metadata": {
        "id": "cAnoe9RyGsww"
      },
      "outputs": [],
      "source": [
        "df = pd.read_csv('ids-2017 Dataset.csv')"
      ]
    },
    {
      "cell_type": "code",
      "execution_count": 3,
      "metadata": {
        "colab": {
          "base_uri": "https://localhost:8080/",
          "height": 360
        },
        "id": "2EZF49cfGzlo",
        "outputId": "9b8c1a56-8561-42af-d519-03b2551a2590"
      },
      "outputs": [
        {
          "data": {
            "text/html": [
              "<div>\n",
              "<style scoped>\n",
              "    .dataframe tbody tr th:only-of-type {\n",
              "        vertical-align: middle;\n",
              "    }\n",
              "\n",
              "    .dataframe tbody tr th {\n",
              "        vertical-align: top;\n",
              "    }\n",
              "\n",
              "    .dataframe thead th {\n",
              "        text-align: right;\n",
              "    }\n",
              "</style>\n",
              "<table border=\"1\" class=\"dataframe\">\n",
              "  <thead>\n",
              "    <tr style=\"text-align: right;\">\n",
              "      <th></th>\n",
              "      <th>flow_duration</th>\n",
              "      <th>Header_Length</th>\n",
              "      <th>Protocol Type</th>\n",
              "      <th>Duration</th>\n",
              "      <th>Rate</th>\n",
              "      <th>Srate</th>\n",
              "      <th>Drate</th>\n",
              "      <th>fin_flag_number</th>\n",
              "      <th>syn_flag_number</th>\n",
              "      <th>rst_flag_number</th>\n",
              "      <th>...</th>\n",
              "      <th>Std</th>\n",
              "      <th>Tot size</th>\n",
              "      <th>IAT</th>\n",
              "      <th>Number</th>\n",
              "      <th>Magnitue</th>\n",
              "      <th>Radius</th>\n",
              "      <th>Covariance</th>\n",
              "      <th>Variance</th>\n",
              "      <th>Weight</th>\n",
              "      <th>label</th>\n",
              "    </tr>\n",
              "  </thead>\n",
              "  <tbody>\n",
              "    <tr>\n",
              "      <th>0</th>\n",
              "      <td>0.000000</td>\n",
              "      <td>54.00</td>\n",
              "      <td>6.00</td>\n",
              "      <td>64.00</td>\n",
              "      <td>0.329807</td>\n",
              "      <td>0.329807</td>\n",
              "      <td>0.0</td>\n",
              "      <td>1</td>\n",
              "      <td>0</td>\n",
              "      <td>1</td>\n",
              "      <td>...</td>\n",
              "      <td>0.000000</td>\n",
              "      <td>54.00</td>\n",
              "      <td>83343831.92</td>\n",
              "      <td>9.5</td>\n",
              "      <td>10.392305</td>\n",
              "      <td>0.000000</td>\n",
              "      <td>0.000000</td>\n",
              "      <td>0.00</td>\n",
              "      <td>141.55</td>\n",
              "      <td>DDoS-RSTFINFlood</td>\n",
              "    </tr>\n",
              "    <tr>\n",
              "      <th>1</th>\n",
              "      <td>0.000000</td>\n",
              "      <td>57.04</td>\n",
              "      <td>6.33</td>\n",
              "      <td>64.00</td>\n",
              "      <td>4.290556</td>\n",
              "      <td>4.290556</td>\n",
              "      <td>0.0</td>\n",
              "      <td>0</td>\n",
              "      <td>0</td>\n",
              "      <td>0</td>\n",
              "      <td>...</td>\n",
              "      <td>2.822973</td>\n",
              "      <td>57.04</td>\n",
              "      <td>82926067.47</td>\n",
              "      <td>9.5</td>\n",
              "      <td>10.464666</td>\n",
              "      <td>4.010353</td>\n",
              "      <td>160.987842</td>\n",
              "      <td>0.05</td>\n",
              "      <td>141.55</td>\n",
              "      <td>DoS-TCP_Flood</td>\n",
              "    </tr>\n",
              "    <tr>\n",
              "      <th>2</th>\n",
              "      <td>0.000000</td>\n",
              "      <td>0.00</td>\n",
              "      <td>1.00</td>\n",
              "      <td>64.00</td>\n",
              "      <td>33.396799</td>\n",
              "      <td>33.396799</td>\n",
              "      <td>0.0</td>\n",
              "      <td>0</td>\n",
              "      <td>0</td>\n",
              "      <td>0</td>\n",
              "      <td>...</td>\n",
              "      <td>0.000000</td>\n",
              "      <td>42.00</td>\n",
              "      <td>83127993.93</td>\n",
              "      <td>9.5</td>\n",
              "      <td>9.165151</td>\n",
              "      <td>0.000000</td>\n",
              "      <td>0.000000</td>\n",
              "      <td>0.00</td>\n",
              "      <td>141.55</td>\n",
              "      <td>DDoS-ICMP_Flood</td>\n",
              "    </tr>\n",
              "    <tr>\n",
              "      <th>3</th>\n",
              "      <td>0.328175</td>\n",
              "      <td>76175.00</td>\n",
              "      <td>17.00</td>\n",
              "      <td>64.00</td>\n",
              "      <td>4642.133010</td>\n",
              "      <td>4642.133010</td>\n",
              "      <td>0.0</td>\n",
              "      <td>0</td>\n",
              "      <td>0</td>\n",
              "      <td>0</td>\n",
              "      <td>...</td>\n",
              "      <td>0.000000</td>\n",
              "      <td>50.00</td>\n",
              "      <td>83015696.38</td>\n",
              "      <td>9.5</td>\n",
              "      <td>10.000000</td>\n",
              "      <td>0.000000</td>\n",
              "      <td>0.000000</td>\n",
              "      <td>0.00</td>\n",
              "      <td>141.55</td>\n",
              "      <td>DoS-UDP_Flood</td>\n",
              "    </tr>\n",
              "    <tr>\n",
              "      <th>4</th>\n",
              "      <td>0.117320</td>\n",
              "      <td>101.73</td>\n",
              "      <td>6.11</td>\n",
              "      <td>65.91</td>\n",
              "      <td>6.202211</td>\n",
              "      <td>6.202211</td>\n",
              "      <td>0.0</td>\n",
              "      <td>0</td>\n",
              "      <td>1</td>\n",
              "      <td>0</td>\n",
              "      <td>...</td>\n",
              "      <td>23.113111</td>\n",
              "      <td>57.88</td>\n",
              "      <td>82972999.18</td>\n",
              "      <td>9.5</td>\n",
              "      <td>11.346876</td>\n",
              "      <td>32.716243</td>\n",
              "      <td>3016.808286</td>\n",
              "      <td>0.19</td>\n",
              "      <td>141.55</td>\n",
              "      <td>DoS-SYN_Flood</td>\n",
              "    </tr>\n",
              "  </tbody>\n",
              "</table>\n",
              "<p>5 rows × 47 columns</p>\n",
              "</div>"
            ],
            "text/plain": [
              "   flow_duration  Header_Length  Protocol Type  Duration         Rate  \\\n",
              "0       0.000000          54.00           6.00     64.00     0.329807   \n",
              "1       0.000000          57.04           6.33     64.00     4.290556   \n",
              "2       0.000000           0.00           1.00     64.00    33.396799   \n",
              "3       0.328175       76175.00          17.00     64.00  4642.133010   \n",
              "4       0.117320         101.73           6.11     65.91     6.202211   \n",
              "\n",
              "         Srate  Drate  fin_flag_number  syn_flag_number  rst_flag_number  ...  \\\n",
              "0     0.329807    0.0                1                0                1  ...   \n",
              "1     4.290556    0.0                0                0                0  ...   \n",
              "2    33.396799    0.0                0                0                0  ...   \n",
              "3  4642.133010    0.0                0                0                0  ...   \n",
              "4     6.202211    0.0                0                1                0  ...   \n",
              "\n",
              "         Std  Tot size          IAT  Number   Magnitue     Radius  \\\n",
              "0   0.000000     54.00  83343831.92     9.5  10.392305   0.000000   \n",
              "1   2.822973     57.04  82926067.47     9.5  10.464666   4.010353   \n",
              "2   0.000000     42.00  83127993.93     9.5   9.165151   0.000000   \n",
              "3   0.000000     50.00  83015696.38     9.5  10.000000   0.000000   \n",
              "4  23.113111     57.88  82972999.18     9.5  11.346876  32.716243   \n",
              "\n",
              "    Covariance  Variance  Weight             label  \n",
              "0     0.000000      0.00  141.55  DDoS-RSTFINFlood  \n",
              "1   160.987842      0.05  141.55     DoS-TCP_Flood  \n",
              "2     0.000000      0.00  141.55   DDoS-ICMP_Flood  \n",
              "3     0.000000      0.00  141.55     DoS-UDP_Flood  \n",
              "4  3016.808286      0.19  141.55     DoS-SYN_Flood  \n",
              "\n",
              "[5 rows x 47 columns]"
            ]
          },
          "execution_count": 3,
          "metadata": {},
          "output_type": "execute_result"
        }
      ],
      "source": [
        "df.head()"
      ]
    },
    {
      "cell_type": "code",
      "execution_count": 4,
      "metadata": {
        "colab": {
          "base_uri": "https://localhost:8080/",
          "height": 342
        },
        "id": "okOHoqLTp4BK",
        "outputId": "03c282ec-9b4b-45a9-f4ad-4fd4fd8fe068"
      },
      "outputs": [
        {
          "data": {
            "text/html": [
              "<div>\n",
              "<style scoped>\n",
              "    .dataframe tbody tr th:only-of-type {\n",
              "        vertical-align: middle;\n",
              "    }\n",
              "\n",
              "    .dataframe tbody tr th {\n",
              "        vertical-align: top;\n",
              "    }\n",
              "\n",
              "    .dataframe thead th {\n",
              "        text-align: right;\n",
              "    }\n",
              "</style>\n",
              "<table border=\"1\" class=\"dataframe\">\n",
              "  <thead>\n",
              "    <tr style=\"text-align: right;\">\n",
              "      <th></th>\n",
              "      <th>flow_duration</th>\n",
              "      <th>Header_Length</th>\n",
              "      <th>Protocol Type</th>\n",
              "      <th>Duration</th>\n",
              "      <th>Rate</th>\n",
              "      <th>Srate</th>\n",
              "      <th>Drate</th>\n",
              "      <th>fin_flag_number</th>\n",
              "      <th>syn_flag_number</th>\n",
              "      <th>rst_flag_number</th>\n",
              "      <th>...</th>\n",
              "      <th>Std</th>\n",
              "      <th>Tot size</th>\n",
              "      <th>IAT</th>\n",
              "      <th>Number</th>\n",
              "      <th>Magnitue</th>\n",
              "      <th>Radius</th>\n",
              "      <th>Covariance</th>\n",
              "      <th>Variance</th>\n",
              "      <th>Weight</th>\n",
              "      <th>label</th>\n",
              "    </tr>\n",
              "  </thead>\n",
              "  <tbody>\n",
              "    <tr>\n",
              "      <th>1048570</th>\n",
              "      <td>1.391925</td>\n",
              "      <td>108.00</td>\n",
              "      <td>6.0</td>\n",
              "      <td>64.00</td>\n",
              "      <td>1.437685</td>\n",
              "      <td>1.437685</td>\n",
              "      <td>0.0</td>\n",
              "      <td>0</td>\n",
              "      <td>1</td>\n",
              "      <td>0</td>\n",
              "      <td>...</td>\n",
              "      <td>0.000000</td>\n",
              "      <td>54.00</td>\n",
              "      <td>8.336550e+07</td>\n",
              "      <td>9.5</td>\n",
              "      <td>10.392305</td>\n",
              "      <td>0.000000</td>\n",
              "      <td>0.000000</td>\n",
              "      <td>0.00</td>\n",
              "      <td>141.55</td>\n",
              "      <td>DDoS-SynonymousIP_Flood</td>\n",
              "    </tr>\n",
              "    <tr>\n",
              "      <th>1048571</th>\n",
              "      <td>0.000000</td>\n",
              "      <td>2.14</td>\n",
              "      <td>46.7</td>\n",
              "      <td>65.91</td>\n",
              "      <td>0.000000</td>\n",
              "      <td>0.000000</td>\n",
              "      <td>0.0</td>\n",
              "      <td>0</td>\n",
              "      <td>0</td>\n",
              "      <td>0</td>\n",
              "      <td>...</td>\n",
              "      <td>5.281048</td>\n",
              "      <td>588.22</td>\n",
              "      <td>8.367732e+07</td>\n",
              "      <td>9.5</td>\n",
              "      <td>34.370618</td>\n",
              "      <td>7.497140</td>\n",
              "      <td>469.190222</td>\n",
              "      <td>0.06</td>\n",
              "      <td>141.55</td>\n",
              "      <td>Mirai-greeth_flood</td>\n",
              "    </tr>\n",
              "    <tr>\n",
              "      <th>1048572</th>\n",
              "      <td>0.132971</td>\n",
              "      <td>30847.00</td>\n",
              "      <td>17.0</td>\n",
              "      <td>64.00</td>\n",
              "      <td>5978.034950</td>\n",
              "      <td>5978.034950</td>\n",
              "      <td>0.0</td>\n",
              "      <td>0</td>\n",
              "      <td>0</td>\n",
              "      <td>0</td>\n",
              "      <td>...</td>\n",
              "      <td>0.000000</td>\n",
              "      <td>50.00</td>\n",
              "      <td>8.312373e+07</td>\n",
              "      <td>9.5</td>\n",
              "      <td>10.000000</td>\n",
              "      <td>0.000000</td>\n",
              "      <td>0.000000</td>\n",
              "      <td>0.00</td>\n",
              "      <td>141.55</td>\n",
              "      <td>DDoS-UDP_Flood</td>\n",
              "    </tr>\n",
              "    <tr>\n",
              "      <th>1048573</th>\n",
              "      <td>0.000000</td>\n",
              "      <td>54.00</td>\n",
              "      <td>6.0</td>\n",
              "      <td>64.00</td>\n",
              "      <td>25.672981</td>\n",
              "      <td>25.672981</td>\n",
              "      <td>0.0</td>\n",
              "      <td>1</td>\n",
              "      <td>0</td>\n",
              "      <td>1</td>\n",
              "      <td>...</td>\n",
              "      <td>0.000000</td>\n",
              "      <td>54.00</td>\n",
              "      <td>8.334509e+07</td>\n",
              "      <td>9.5</td>\n",
              "      <td>10.392305</td>\n",
              "      <td>0.000000</td>\n",
              "      <td>0.000000</td>\n",
              "      <td>0.00</td>\n",
              "      <td>141.55</td>\n",
              "      <td>DDoS-RSTFINFlood</td>\n",
              "    </tr>\n",
              "    <tr>\n",
              "      <th>1048574</th>\n",
              "      <td>128.443556</td>\n",
              "      <td>4264.30</td>\n",
              "      <td>7.1</td>\n",
              "      <td>98.80</td>\n",
              "      <td>13.640648</td>\n",
              "      <td>13.640648</td>\n",
              "      <td>0.0</td>\n",
              "      <td>0</td>\n",
              "      <td>0</td>\n",
              "      <td>0</td>\n",
              "      <td>...</td>\n",
              "      <td>114.400450</td>\n",
              "      <td>96.70</td>\n",
              "      <td>1.665173e+08</td>\n",
              "      <td>13.5</td>\n",
              "      <td>17.124571</td>\n",
              "      <td>162.030508</td>\n",
              "      <td>13140.079760</td>\n",
              "      <td>1.00</td>\n",
              "      <td>244.60</td>\n",
              "      <td>BenignTraffic</td>\n",
              "    </tr>\n",
              "  </tbody>\n",
              "</table>\n",
              "<p>5 rows × 47 columns</p>\n",
              "</div>"
            ],
            "text/plain": [
              "         flow_duration  Header_Length  Protocol Type  Duration         Rate  \\\n",
              "1048570       1.391925         108.00            6.0     64.00     1.437685   \n",
              "1048571       0.000000           2.14           46.7     65.91     0.000000   \n",
              "1048572       0.132971       30847.00           17.0     64.00  5978.034950   \n",
              "1048573       0.000000          54.00            6.0     64.00    25.672981   \n",
              "1048574     128.443556        4264.30            7.1     98.80    13.640648   \n",
              "\n",
              "               Srate  Drate  fin_flag_number  syn_flag_number  \\\n",
              "1048570     1.437685    0.0                0                1   \n",
              "1048571     0.000000    0.0                0                0   \n",
              "1048572  5978.034950    0.0                0                0   \n",
              "1048573    25.672981    0.0                1                0   \n",
              "1048574    13.640648    0.0                0                0   \n",
              "\n",
              "         rst_flag_number  ...         Std  Tot size           IAT  Number  \\\n",
              "1048570                0  ...    0.000000     54.00  8.336550e+07     9.5   \n",
              "1048571                0  ...    5.281048    588.22  8.367732e+07     9.5   \n",
              "1048572                0  ...    0.000000     50.00  8.312373e+07     9.5   \n",
              "1048573                1  ...    0.000000     54.00  8.334509e+07     9.5   \n",
              "1048574                0  ...  114.400450     96.70  1.665173e+08    13.5   \n",
              "\n",
              "          Magnitue      Radius    Covariance  Variance  Weight  \\\n",
              "1048570  10.392305    0.000000      0.000000      0.00  141.55   \n",
              "1048571  34.370618    7.497140    469.190222      0.06  141.55   \n",
              "1048572  10.000000    0.000000      0.000000      0.00  141.55   \n",
              "1048573  10.392305    0.000000      0.000000      0.00  141.55   \n",
              "1048574  17.124571  162.030508  13140.079760      1.00  244.60   \n",
              "\n",
              "                           label  \n",
              "1048570  DDoS-SynonymousIP_Flood  \n",
              "1048571       Mirai-greeth_flood  \n",
              "1048572           DDoS-UDP_Flood  \n",
              "1048573         DDoS-RSTFINFlood  \n",
              "1048574            BenignTraffic  \n",
              "\n",
              "[5 rows x 47 columns]"
            ]
          },
          "execution_count": 4,
          "metadata": {},
          "output_type": "execute_result"
        }
      ],
      "source": [
        "df.tail()"
      ]
    },
    {
      "cell_type": "code",
      "execution_count": 5,
      "metadata": {
        "colab": {
          "base_uri": "https://localhost:8080/"
        },
        "id": "CJYTeAoBC8MD",
        "outputId": "33be2f73-97dc-4eb6-a03e-ff6730b569ab"
      },
      "outputs": [
        {
          "name": "stdout",
          "output_type": "stream",
          "text": [
            "<class 'pandas.core.frame.DataFrame'>\n",
            "RangeIndex: 1048575 entries, 0 to 1048574\n",
            "Data columns (total 47 columns):\n",
            " #   Column           Non-Null Count    Dtype  \n",
            "---  ------           --------------    -----  \n",
            " 0   flow_duration    1048575 non-null  float64\n",
            " 1   Header_Length    1048575 non-null  float64\n",
            " 2   Protocol Type    1048575 non-null  float64\n",
            " 3   Duration         1048575 non-null  float64\n",
            " 4   Rate             1048575 non-null  float64\n",
            " 5   Srate            1048575 non-null  float64\n",
            " 6   Drate            1048575 non-null  float64\n",
            " 7   fin_flag_number  1048575 non-null  int64  \n",
            " 8   syn_flag_number  1048575 non-null  int64  \n",
            " 9   rst_flag_number  1048575 non-null  int64  \n",
            " 10  psh_flag_number  1048575 non-null  int64  \n",
            " 11  ack_flag_number  1048575 non-null  int64  \n",
            " 12  ece_flag_number  1048575 non-null  int64  \n",
            " 13  cwr_flag_number  1048575 non-null  int64  \n",
            " 14  ack_count        1048575 non-null  float64\n",
            " 15  syn_count        1048575 non-null  float64\n",
            " 16  fin_count        1048575 non-null  float64\n",
            " 17  urg_count        1048575 non-null  float64\n",
            " 18  rst_count        1048575 non-null  float64\n",
            " 19  HTTP             1048575 non-null  int64  \n",
            " 20  HTTPS            1048575 non-null  int64  \n",
            " 21  DNS              1048575 non-null  int64  \n",
            " 22  Telnet           1048575 non-null  int64  \n",
            " 23  SMTP             1048575 non-null  int64  \n",
            " 24  SSH              1048575 non-null  int64  \n",
            " 25  IRC              1048575 non-null  int64  \n",
            " 26  TCP              1048575 non-null  int64  \n",
            " 27  UDP              1048575 non-null  int64  \n",
            " 28  DHCP             1048575 non-null  int64  \n",
            " 29  ARP              1048575 non-null  int64  \n",
            " 30  ICMP             1048575 non-null  int64  \n",
            " 31  IPv              1048575 non-null  int64  \n",
            " 32  LLC              1048575 non-null  int64  \n",
            " 33  Tot sum          1048575 non-null  float64\n",
            " 34  Min              1048575 non-null  float64\n",
            " 35  Max              1048575 non-null  float64\n",
            " 36  AVG              1048575 non-null  float64\n",
            " 37  Std              1048575 non-null  float64\n",
            " 38  Tot size         1048575 non-null  float64\n",
            " 39  IAT              1048575 non-null  float64\n",
            " 40  Number           1048575 non-null  float64\n",
            " 41  Magnitue         1048575 non-null  float64\n",
            " 42  Radius           1048575 non-null  float64\n",
            " 43  Covariance       1048575 non-null  float64\n",
            " 44  Variance         1048575 non-null  float64\n",
            " 45  Weight           1048575 non-null  float64\n",
            " 46  label            1048575 non-null  object \n",
            "dtypes: float64(25), int64(21), object(1)\n",
            "memory usage: 376.0+ MB\n"
          ]
        }
      ],
      "source": [
        "df.info()"
      ]
    },
    {
      "cell_type": "code",
      "execution_count": 6,
      "metadata": {
        "colab": {
          "base_uri": "https://localhost:8080/"
        },
        "id": "bCd7_swXDKWZ",
        "outputId": "373d7c46-8be4-4ed5-e534-c5e80b2d7c91"
      },
      "outputs": [
        {
          "data": {
            "text/plain": [
              "flow_duration      0\n",
              "Header_Length      0\n",
              "Protocol Type      0\n",
              "Duration           0\n",
              "Rate               0\n",
              "Srate              0\n",
              "Drate              0\n",
              "fin_flag_number    0\n",
              "syn_flag_number    0\n",
              "rst_flag_number    0\n",
              "psh_flag_number    0\n",
              "ack_flag_number    0\n",
              "ece_flag_number    0\n",
              "cwr_flag_number    0\n",
              "ack_count          0\n",
              "syn_count          0\n",
              "fin_count          0\n",
              "urg_count          0\n",
              "rst_count          0\n",
              "HTTP               0\n",
              "HTTPS              0\n",
              "DNS                0\n",
              "Telnet             0\n",
              "SMTP               0\n",
              "SSH                0\n",
              "IRC                0\n",
              "TCP                0\n",
              "UDP                0\n",
              "DHCP               0\n",
              "ARP                0\n",
              "ICMP               0\n",
              "IPv                0\n",
              "LLC                0\n",
              "Tot sum            0\n",
              "Min                0\n",
              "Max                0\n",
              "AVG                0\n",
              "Std                0\n",
              "Tot size           0\n",
              "IAT                0\n",
              "Number             0\n",
              "Magnitue           0\n",
              "Radius             0\n",
              "Covariance         0\n",
              "Variance           0\n",
              "Weight             0\n",
              "label              0\n",
              "dtype: int64"
            ]
          },
          "execution_count": 6,
          "metadata": {},
          "output_type": "execute_result"
        }
      ],
      "source": [
        "df.isnull().sum()"
      ]
    },
    {
      "cell_type": "code",
      "execution_count": 7,
      "metadata": {
        "colab": {
          "base_uri": "https://localhost:8080/"
        },
        "id": "_LJIHmgqDSzW",
        "outputId": "5f4eeb65-06ed-466c-a9f3-afc53d5bbddc"
      },
      "outputs": [
        {
          "data": {
            "text/plain": [
              "(1048575, 47)"
            ]
          },
          "execution_count": 7,
          "metadata": {},
          "output_type": "execute_result"
        }
      ],
      "source": [
        "df.shape"
      ]
    },
    {
      "cell_type": "code",
      "execution_count": 8,
      "metadata": {
        "id": "qdW_BScBDXsu"
      },
      "outputs": [],
      "source": [
        "df.dropna(inplace=True)"
      ]
    },
    {
      "cell_type": "code",
      "execution_count": 9,
      "metadata": {
        "colab": {
          "base_uri": "https://localhost:8080/"
        },
        "id": "kBUA6WSxDa9A",
        "outputId": "b9426e9d-28c8-43ad-8f3b-528df04af9fa"
      },
      "outputs": [
        {
          "data": {
            "text/plain": [
              "(1048575, 47)"
            ]
          },
          "execution_count": 9,
          "metadata": {},
          "output_type": "execute_result"
        }
      ],
      "source": [
        "df.shape"
      ]
    },
    {
      "cell_type": "markdown",
      "metadata": {},
      "source": [
        "***Exploratory Data Analysis (EDA)***"
      ]
    },
    {
      "cell_type": "markdown",
      "metadata": {
        "id": "72l4iM9dN9Sd"
      },
      "source": [
        "#**Depedent variable \"LABEL\"**\n",
        "\n",
        " Label in the dataset indicates whether the traffic sample is normal or malicious. This information is essential for training and evaluating IDSs because it allows the IDS to learn how to distinguish between normal and malicious traffic."
      ]
    },
    {
      "cell_type": "code",
      "execution_count": 10,
      "metadata": {
        "colab": {
          "base_uri": "https://localhost:8080/"
        },
        "id": "6N6uJnb1qjwj",
        "outputId": "308343c8-9d68-4f55-ddb8-1ebf1b31e02e"
      },
      "outputs": [
        {
          "name": "stdout",
          "output_type": "stream",
          "text": [
            "['DDoS-RSTFINFlood' 'DoS-TCP_Flood' 'DDoS-ICMP_Flood' 'DoS-UDP_Flood'\n",
            " 'DoS-SYN_Flood' 'Mirai-greeth_flood' 'DDoS-SynonymousIP_Flood'\n",
            " 'Mirai-udpplain' 'DDoS-SYN_Flood' 'DDoS-PSHACK_Flood' 'DDoS-TCP_Flood'\n",
            " 'DDoS-UDP_Flood' 'BenignTraffic' 'MITM-ArpSpoofing'\n",
            " 'DDoS-ACK_Fragmentation' 'Mirai-greip_flood' 'DoS-HTTP_Flood'\n",
            " 'DDoS-ICMP_Fragmentation' 'Recon-PortScan' 'DNS_Spoofing'\n",
            " 'DDoS-UDP_Fragmentation' 'Recon-OSScan' 'XSS' 'DDoS-HTTP_Flood'\n",
            " 'Recon-HostDiscovery' 'CommandInjection' 'VulnerabilityScan'\n",
            " 'DDoS-SlowLoris' 'Backdoor_Malware' 'BrowserHijacking'\n",
            " 'DictionaryBruteForce' 'SqlInjection' 'Recon-PingSweep'\n",
            " 'Uploading_Attack']\n"
          ]
        }
      ],
      "source": [
        "# print the unique variables\n",
        "unique_categories = df['label'].unique()\n",
        "print(unique_categories)"
      ]
    },
    {
      "cell_type": "code",
      "execution_count": 11,
      "metadata": {
        "colab": {
          "base_uri": "https://localhost:8080/"
        },
        "id": "ledCKKkt7DyI",
        "outputId": "3d575e97-953c-46bc-c2a8-a4e91614b8d3"
      },
      "outputs": [
        {
          "name": "stdout",
          "output_type": "stream",
          "text": [
            "DDoS-ICMP_Flood            161281\n",
            "DDoS-UDP_Flood             121205\n",
            "DDoS-TCP_Flood             101293\n",
            "DDoS-PSHACK_Flood           92395\n",
            "DDoS-SYN_Flood              91644\n",
            "DDoS-RSTFINFlood            90823\n",
            "DDoS-SynonymousIP_Flood     80680\n",
            "DoS-UDP_Flood               74787\n",
            "DoS-TCP_Flood               59807\n",
            "DoS-SYN_Flood               45207\n",
            "BenignTraffic               24476\n",
            "Mirai-greeth_flood          22115\n",
            "Mirai-udpplain              20166\n",
            "Mirai-greip_flood           16952\n",
            "DDoS-ICMP_Fragmentation     10223\n",
            "MITM-ArpSpoofing             7019\n",
            "DDoS-ACK_Fragmentation       6431\n",
            "DDoS-UDP_Fragmentation       6431\n",
            "DNS_Spoofing                 4034\n",
            "Recon-HostDiscovery          3007\n",
            "Recon-OSScan                 2225\n",
            "Recon-PortScan               1863\n",
            "DoS-HTTP_Flood               1680\n",
            "VulnerabilityScan             809\n",
            "DDoS-HTTP_Flood               626\n",
            "DDoS-SlowLoris                493\n",
            "DictionaryBruteForce          324\n",
            "BrowserHijacking              140\n",
            "SqlInjection                  122\n",
            "CommandInjection              105\n",
            "Backdoor_Malware               76\n",
            "XSS                            72\n",
            "Recon-PingSweep                41\n",
            "Uploading_Attack               23\n",
            "Name: label, dtype: int64\n"
          ]
        }
      ],
      "source": [
        "# calculate the category counts\n",
        "category_counts = df['label'].value_counts()\n",
        "print(category_counts)"
      ]
    },
    {
      "cell_type": "code",
      "execution_count": 12,
      "metadata": {
        "colab": {
          "base_uri": "https://localhost:8080/"
        },
        "id": "JoHRMmMUq5v0",
        "outputId": "a02bfa9b-e20d-4edf-f475-b173ba58535d"
      },
      "outputs": [
        {
          "data": {
            "text/plain": [
              "(1048575, 47)"
            ]
          },
          "execution_count": 12,
          "metadata": {},
          "output_type": "execute_result"
        }
      ],
      "source": [
        "df.shape"
      ]
    },
    {
      "cell_type": "markdown",
      "metadata": {
        "id": "NWrMByKzDve7"
      },
      "source": [
        "# **Data Visualization**\n",
        "\n"
      ]
    },
    {
      "cell_type": "code",
      "execution_count": 13,
      "metadata": {
        "colab": {
          "base_uri": "https://localhost:8080/",
          "height": 694
        },
        "id": "TpSLoMBBtNF9",
        "outputId": "0bf5cad8-7ad1-490f-e07b-df6fc927554b"
      },
      "outputs": [
        {
          "data": {
            "image/png": "[encoded data removed]",
            "text/plain": [
              "<Figure size 720x432 with 1 Axes>"
            ]
          },
          "metadata": {
            "needs_background": "light"
          },
          "output_type": "display_data"
        }
      ],
      "source": [
        "# Visualize the distribution of the different categories\n",
        "plt.figure(figsize=(10, 6))\n",
        "sns.countplot(x='label', data=df, palette='Set1', order=unique_categories)\n",
        "plt.xlabel(' Types of Attack ')\n",
        "plt.ylabel(' No of Occurrence ')\n",
        "plt.xticks(rotation=45, ha='right')\n",
        "\n",
        "# Add the count of each label dependent variable at each of the bar\n",
        "for i in range(len(unique_categories)):\n",
        "    count = df[df['label'] == unique_categories[i]].shape[0]\n",
        "    plt.annotate(str(count), (i,count), ha='center')\n",
        "\n",
        "# Rotate x-axis labels for better readability\n",
        "plt.xticks(rotation=45, ha='right')\n",
        "\n",
        "plt.tight_layout()\n",
        "plt.show()"
      ]
    },
    {
      "cell_type": "code",
      "execution_count": 14,
      "metadata": {
        "colab": {
          "base_uri": "https://localhost:8080/",
          "height": 367
        },
        "id": "hCMhdy5rw2mc",
        "outputId": "248cb918-0aa6-445e-fdcf-ebde7a0bb63e"
      },
      "outputs": [
        {
          "data": {
            "text/html": [
              "<div>\n",
              "<style scoped>\n",
              "    .dataframe tbody tr th:only-of-type {\n",
              "        vertical-align: middle;\n",
              "    }\n",
              "\n",
              "    .dataframe tbody tr th {\n",
              "        vertical-align: top;\n",
              "    }\n",
              "\n",
              "    .dataframe thead th {\n",
              "        text-align: right;\n",
              "    }\n",
              "</style>\n",
              "<table border=\"1\" class=\"dataframe\">\n",
              "  <thead>\n",
              "    <tr style=\"text-align: right;\">\n",
              "      <th></th>\n",
              "      <th>flow_duration</th>\n",
              "      <th>Header_Length</th>\n",
              "      <th>Protocol Type</th>\n",
              "      <th>Duration</th>\n",
              "      <th>Rate</th>\n",
              "      <th>Srate</th>\n",
              "      <th>Drate</th>\n",
              "      <th>fin_flag_number</th>\n",
              "      <th>syn_flag_number</th>\n",
              "      <th>rst_flag_number</th>\n",
              "      <th>...</th>\n",
              "      <th>AVG</th>\n",
              "      <th>Std</th>\n",
              "      <th>Tot size</th>\n",
              "      <th>IAT</th>\n",
              "      <th>Number</th>\n",
              "      <th>Magnitue</th>\n",
              "      <th>Radius</th>\n",
              "      <th>Covariance</th>\n",
              "      <th>Variance</th>\n",
              "      <th>Weight</th>\n",
              "    </tr>\n",
              "  </thead>\n",
              "  <tbody>\n",
              "    <tr>\n",
              "      <th>count</th>\n",
              "      <td>1.048575e+06</td>\n",
              "      <td>1.048575e+06</td>\n",
              "      <td>1.048575e+06</td>\n",
              "      <td>1.048575e+06</td>\n",
              "      <td>1.048575e+06</td>\n",
              "      <td>1.048575e+06</td>\n",
              "      <td>1.048575e+06</td>\n",
              "      <td>1.048575e+06</td>\n",
              "      <td>1.048575e+06</td>\n",
              "      <td>1.048575e+06</td>\n",
              "      <td>...</td>\n",
              "      <td>1.048575e+06</td>\n",
              "      <td>1.048575e+06</td>\n",
              "      <td>1.048575e+06</td>\n",
              "      <td>1.048575e+06</td>\n",
              "      <td>1.048575e+06</td>\n",
              "      <td>1.048575e+06</td>\n",
              "      <td>1.048575e+06</td>\n",
              "      <td>1.048575e+06</td>\n",
              "      <td>1.048575e+06</td>\n",
              "      <td>1.048575e+06</td>\n",
              "    </tr>\n",
              "    <tr>\n",
              "      <th>mean</th>\n",
              "      <td>5.763553e+00</td>\n",
              "      <td>7.759537e+04</td>\n",
              "      <td>9.062979e+00</td>\n",
              "      <td>6.635523e+01</td>\n",
              "      <td>9.146945e+03</td>\n",
              "      <td>9.146945e+03</td>\n",
              "      <td>1.807621e-06</td>\n",
              "      <td>8.655842e-02</td>\n",
              "      <td>2.073090e-01</td>\n",
              "      <td>9.057149e-02</td>\n",
              "      <td>...</td>\n",
              "      <td>1.248502e+02</td>\n",
              "      <td>3.345817e+01</td>\n",
              "      <td>1.248978e+02</td>\n",
              "      <td>8.317382e+07</td>\n",
              "      <td>9.497998e+00</td>\n",
              "      <td>1.312711e+01</td>\n",
              "      <td>4.728151e+01</td>\n",
              "      <td>3.147998e+04</td>\n",
              "      <td>9.635824e-02</td>\n",
              "      <td>1.414999e+02</td>\n",
              "    </tr>\n",
              "    <tr>\n",
              "      <th>std</th>\n",
              "      <td>2.965660e+02</td>\n",
              "      <td>4.664043e+05</td>\n",
              "      <td>8.936737e+00</td>\n",
              "      <td>1.408680e+01</td>\n",
              "      <td>9.974794e+04</td>\n",
              "      <td>9.974794e+04</td>\n",
              "      <td>8.501385e-04</td>\n",
              "      <td>2.811870e-01</td>\n",
              "      <td>4.053790e-01</td>\n",
              "      <td>2.869989e-01</td>\n",
              "      <td>...</td>\n",
              "      <td>2.420296e+02</td>\n",
              "      <td>1.622552e+02</td>\n",
              "      <td>2.429223e+02</td>\n",
              "      <td>1.703857e+07</td>\n",
              "      <td>8.187710e-01</td>\n",
              "      <td>8.639921e+00</td>\n",
              "      <td>2.294819e+02</td>\n",
              "      <td>3.645895e+05</td>\n",
              "      <td>2.327718e-01</td>\n",
              "      <td>2.105725e+01</td>\n",
              "    </tr>\n",
              "    <tr>\n",
              "      <th>min</th>\n",
              "      <td>0.000000e+00</td>\n",
              "      <td>0.000000e+00</td>\n",
              "      <td>0.000000e+00</td>\n",
              "      <td>0.000000e+00</td>\n",
              "      <td>0.000000e+00</td>\n",
              "      <td>0.000000e+00</td>\n",
              "      <td>0.000000e+00</td>\n",
              "      <td>0.000000e+00</td>\n",
              "      <td>0.000000e+00</td>\n",
              "      <td>0.000000e+00</td>\n",
              "      <td>...</td>\n",
              "      <td>4.200000e+01</td>\n",
              "      <td>0.000000e+00</td>\n",
              "      <td>4.200000e+01</td>\n",
              "      <td>0.000000e+00</td>\n",
              "      <td>1.000000e+00</td>\n",
              "      <td>9.165151e+00</td>\n",
              "      <td>0.000000e+00</td>\n",
              "      <td>0.000000e+00</td>\n",
              "      <td>0.000000e+00</td>\n",
              "      <td>1.000000e+00</td>\n",
              "    </tr>\n",
              "    <tr>\n",
              "      <th>25%</th>\n",
              "      <td>0.000000e+00</td>\n",
              "      <td>5.400000e+01</td>\n",
              "      <td>6.000000e+00</td>\n",
              "      <td>6.400000e+01</td>\n",
              "      <td>2.087155e+00</td>\n",
              "      <td>2.087155e+00</td>\n",
              "      <td>0.000000e+00</td>\n",
              "      <td>0.000000e+00</td>\n",
              "      <td>0.000000e+00</td>\n",
              "      <td>0.000000e+00</td>\n",
              "      <td>...</td>\n",
              "      <td>5.000000e+01</td>\n",
              "      <td>0.000000e+00</td>\n",
              "      <td>5.000000e+01</td>\n",
              "      <td>8.307157e+07</td>\n",
              "      <td>9.500000e+00</td>\n",
              "      <td>1.000000e+01</td>\n",
              "      <td>0.000000e+00</td>\n",
              "      <td>0.000000e+00</td>\n",
              "      <td>0.000000e+00</td>\n",
              "      <td>1.415500e+02</td>\n",
              "    </tr>\n",
              "    <tr>\n",
              "      <th>50%</th>\n",
              "      <td>0.000000e+00</td>\n",
              "      <td>5.400000e+01</td>\n",
              "      <td>6.000000e+00</td>\n",
              "      <td>6.400000e+01</td>\n",
              "      <td>1.581371e+01</td>\n",
              "      <td>1.581371e+01</td>\n",
              "      <td>0.000000e+00</td>\n",
              "      <td>0.000000e+00</td>\n",
              "      <td>0.000000e+00</td>\n",
              "      <td>0.000000e+00</td>\n",
              "      <td>...</td>\n",
              "      <td>5.400000e+01</td>\n",
              "      <td>0.000000e+00</td>\n",
              "      <td>5.400000e+01</td>\n",
              "      <td>8.312452e+07</td>\n",
              "      <td>9.500000e+00</td>\n",
              "      <td>1.039230e+01</td>\n",
              "      <td>0.000000e+00</td>\n",
              "      <td>0.000000e+00</td>\n",
              "      <td>0.000000e+00</td>\n",
              "      <td>1.415500e+02</td>\n",
              "    </tr>\n",
              "    <tr>\n",
              "      <th>75%</th>\n",
              "      <td>1.042881e-01</td>\n",
              "      <td>2.781200e+02</td>\n",
              "      <td>1.428000e+01</td>\n",
              "      <td>6.400000e+01</td>\n",
              "      <td>1.174380e+02</td>\n",
              "      <td>1.174380e+02</td>\n",
              "      <td>0.000000e+00</td>\n",
              "      <td>0.000000e+00</td>\n",
              "      <td>0.000000e+00</td>\n",
              "      <td>0.000000e+00</td>\n",
              "      <td>...</td>\n",
              "      <td>5.405208e+01</td>\n",
              "      <td>3.777740e-01</td>\n",
              "      <td>5.406000e+01</td>\n",
              "      <td>8.334390e+07</td>\n",
              "      <td>9.500000e+00</td>\n",
              "      <td>1.039675e+01</td>\n",
              "      <td>5.059213e-01</td>\n",
              "      <td>1.370916e+00</td>\n",
              "      <td>8.000000e-02</td>\n",
              "      <td>1.415500e+02</td>\n",
              "    </tr>\n",
              "    <tr>\n",
              "      <th>max</th>\n",
              "      <td>9.943576e+04</td>\n",
              "      <td>9.815555e+06</td>\n",
              "      <td>4.700000e+01</td>\n",
              "      <td>2.550000e+02</td>\n",
              "      <td>7.340032e+06</td>\n",
              "      <td>7.340032e+06</td>\n",
              "      <td>8.484654e-01</td>\n",
              "      <td>1.000000e+00</td>\n",
              "      <td>1.000000e+00</td>\n",
              "      <td>1.000000e+00</td>\n",
              "      <td>...</td>\n",
              "      <td>8.040961e+03</td>\n",
              "      <td>1.099626e+04</td>\n",
              "      <td>1.309800e+04</td>\n",
              "      <td>1.676394e+08</td>\n",
              "      <td>1.500000e+01</td>\n",
              "      <td>1.252094e+02</td>\n",
              "      <td>1.555106e+04</td>\n",
              "      <td>1.372844e+08</td>\n",
              "      <td>1.000000e+00</td>\n",
              "      <td>2.446000e+02</td>\n",
              "    </tr>\n",
              "  </tbody>\n",
              "</table>\n",
              "<p>8 rows × 46 columns</p>\n",
              "</div>"
            ],
            "text/plain": [
              "       flow_duration  Header_Length  Protocol Type      Duration  \\\n",
              "count   1.048575e+06   1.048575e+06   1.048575e+06  1.048575e+06   \n",
              "mean    5.763553e+00   7.759537e+04   9.062979e+00  6.635523e+01   \n",
              "std     2.965660e+02   4.664043e+05   8.936737e+00  1.408680e+01   \n",
              "min     0.000000e+00   0.000000e+00   0.000000e+00  0.000000e+00   \n",
              "25%     0.000000e+00   5.400000e+01   6.000000e+00  6.400000e+01   \n",
              "50%     0.000000e+00   5.400000e+01   6.000000e+00  6.400000e+01   \n",
              "75%     1.042881e-01   2.781200e+02   1.428000e+01  6.400000e+01   \n",
              "max     9.943576e+04   9.815555e+06   4.700000e+01  2.550000e+02   \n",
              "\n",
              "               Rate         Srate         Drate  fin_flag_number  \\\n",
              "count  1.048575e+06  1.048575e+06  1.048575e+06     1.048575e+06   \n",
              "mean   9.146945e+03  9.146945e+03  1.807621e-06     8.655842e-02   \n",
              "std    9.974794e+04  9.974794e+04  8.501385e-04     2.811870e-01   \n",
              "min    0.000000e+00  0.000000e+00  0.000000e+00     0.000000e+00   \n",
              "25%    2.087155e+00  2.087155e+00  0.000000e+00     0.000000e+00   \n",
              "50%    1.581371e+01  1.581371e+01  0.000000e+00     0.000000e+00   \n",
              "75%    1.174380e+02  1.174380e+02  0.000000e+00     0.000000e+00   \n",
              "max    7.340032e+06  7.340032e+06  8.484654e-01     1.000000e+00   \n",
              "\n",
              "       syn_flag_number  rst_flag_number  ...           AVG           Std  \\\n",
              "count     1.048575e+06     1.048575e+06  ...  1.048575e+06  1.048575e+06   \n",
              "mean      2.073090e-01     9.057149e-02  ...  1.248502e+02  3.345817e+01   \n",
              "std       4.053790e-01     2.869989e-01  ...  2.420296e+02  1.622552e+02   \n",
              "min       0.000000e+00     0.000000e+00  ...  4.200000e+01  0.000000e+00   \n",
              "25%       0.000000e+00     0.000000e+00  ...  5.000000e+01  0.000000e+00   \n",
              "50%       0.000000e+00     0.000000e+00  ...  5.400000e+01  0.000000e+00   \n",
              "75%       0.000000e+00     0.000000e+00  ...  5.405208e+01  3.777740e-01   \n",
              "max       1.000000e+00     1.000000e+00  ...  8.040961e+03  1.099626e+04   \n",
              "\n",
              "           Tot size           IAT        Number      Magnitue        Radius  \\\n",
              "count  1.048575e+06  1.048575e+06  1.048575e+06  1.048575e+06  1.048575e+06   \n",
              "mean   1.248978e+02  8.317382e+07  9.497998e+00  1.312711e+01  4.728151e+01   \n",
              "std    2.429223e+02  1.703857e+07  8.187710e-01  8.639921e+00  2.294819e+02   \n",
              "min    4.200000e+01  0.000000e+00  1.000000e+00  9.165151e+00  0.000000e+00   \n",
              "25%    5.000000e+01  8.307157e+07  9.500000e+00  1.000000e+01  0.000000e+00   \n",
              "50%    5.400000e+01  8.312452e+07  9.500000e+00  1.039230e+01  0.000000e+00   \n",
              "75%    5.406000e+01  8.334390e+07  9.500000e+00  1.039675e+01  5.059213e-01   \n",
              "max    1.309800e+04  1.676394e+08  1.500000e+01  1.252094e+02  1.555106e+04   \n",
              "\n",
              "         Covariance      Variance        Weight  \n",
              "count  1.048575e+06  1.048575e+06  1.048575e+06  \n",
              "mean   3.147998e+04  9.635824e-02  1.414999e+02  \n",
              "std    3.645895e+05  2.327718e-01  2.105725e+01  \n",
              "min    0.000000e+00  0.000000e+00  1.000000e+00  \n",
              "25%    0.000000e+00  0.000000e+00  1.415500e+02  \n",
              "50%    0.000000e+00  0.000000e+00  1.415500e+02  \n",
              "75%    1.370916e+00  8.000000e-02  1.415500e+02  \n",
              "max    1.372844e+08  1.000000e+00  2.446000e+02  \n",
              "\n",
              "[8 rows x 46 columns]"
            ]
          },
          "execution_count": 14,
          "metadata": {},
          "output_type": "execute_result"
        }
      ],
      "source": [
        "df.describe()"
      ]
    },
    {
      "cell_type": "markdown",
      "metadata": {
        "id": "wiFG4oeNQRMB"
      },
      "source": [
        "One Hot Encoding"
      ]
    },
    {
      "cell_type": "markdown",
      "metadata": {
        "id": "bXGUMCeJ3QeZ"
      },
      "source": [
        "One-hot encoding is a technique used to convert categorical data into a numerical format that can be used by machine learning algorithm"
      ]
    },
    {
      "cell_type": "markdown",
      "metadata": {
        "id": "97cOPdln2k38"
      },
      "source": [
        "**df.dropna(inplace=True**) :  Drops any rows containing NULL values from the DataFrame.\n",
        "\n",
        "**inplace=True**  : The changes will be applied directly to the DataFrame itself not return a new DataFrame.\n",
        "\n",
        "**df.reset_index(inplace=True, drop=True)**: After dropping rows with NULL values,this line resets the index of the DataFrame.\n",
        "\n",
        "**(drop=True)** : parameter ensures that the old index is not retained as a new column in the DataFrame, and it is removed entirely.\n",
        "\n",
        "**LabelEncoder** : used encode the categorical target variables as integers.\n",
        "\n",
        "**fit_transform()** : used to encode unique values in the 'label' column and transforms those values into integer labels\n",
        "\n"
      ]
    },
    {
      "cell_type": "markdown",
      "metadata": {
        "id": "zV5tNI9b-ME7"
      },
      "source": [
        "**num_col = df.select_dtypes(include='number').columns** : Retrieves the column names of numeric columns and stores them in the variable\n",
        "as (num_col)\n",
        "\n",
        "**cat_col**  : will be a new Index object containing the names of columns that are not numeric\n",
        "\n",
        "**cat_col = cat_col[1:]**: remove a specific column from the categorical columns,excluding the first element (index 0) .\n"
      ]
    },
    {
      "cell_type": "code",
      "execution_count": 15,
      "metadata": {
        "colab": {
          "base_uri": "https://localhost:8080/"
        },
        "id": "OMeNDMwga4sy",
        "outputId": "9ced8f75-ec9c-4812-c3ed-28a0d6b4aebc"
      },
      "outputs": [
        {
          "name": "stdout",
          "output_type": "stream",
          "text": [
            "<class 'pandas.core.frame.DataFrame'>\n",
            "RangeIndex: 1048575 entries, 0 to 1048574\n",
            "Data columns (total 47 columns):\n",
            " #   Column           Non-Null Count    Dtype  \n",
            "---  ------           --------------    -----  \n",
            " 0   flow_duration    1048575 non-null  float64\n",
            " 1   Header_Length    1048575 non-null  float64\n",
            " 2   Protocol Type    1048575 non-null  float64\n",
            " 3   Duration         1048575 non-null  float64\n",
            " 4   Rate             1048575 non-null  float64\n",
            " 5   Srate            1048575 non-null  float64\n",
            " 6   Drate            1048575 non-null  float64\n",
            " 7   fin_flag_number  1048575 non-null  int64  \n",
            " 8   syn_flag_number  1048575 non-null  int64  \n",
            " 9   rst_flag_number  1048575 non-null  int64  \n",
            " 10  psh_flag_number  1048575 non-null  int64  \n",
            " 11  ack_flag_number  1048575 non-null  int64  \n",
            " 12  ece_flag_number  1048575 non-null  int64  \n",
            " 13  cwr_flag_number  1048575 non-null  int64  \n",
            " 14  ack_count        1048575 non-null  float64\n",
            " 15  syn_count        1048575 non-null  float64\n",
            " 16  fin_count        1048575 non-null  float64\n",
            " 17  urg_count        1048575 non-null  float64\n",
            " 18  rst_count        1048575 non-null  float64\n",
            " 19  HTTP             1048575 non-null  int64  \n",
            " 20  HTTPS            1048575 non-null  int64  \n",
            " 21  DNS              1048575 non-null  int64  \n",
            " 22  Telnet           1048575 non-null  int64  \n",
            " 23  SMTP             1048575 non-null  int64  \n",
            " 24  SSH              1048575 non-null  int64  \n",
            " 25  IRC              1048575 non-null  int64  \n",
            " 26  TCP              1048575 non-null  int64  \n",
            " 27  UDP              1048575 non-null  int64  \n",
            " 28  DHCP             1048575 non-null  int64  \n",
            " 29  ARP              1048575 non-null  int64  \n",
            " 30  ICMP             1048575 non-null  int64  \n",
            " 31  IPv              1048575 non-null  int64  \n",
            " 32  LLC              1048575 non-null  int64  \n",
            " 33  Tot sum          1048575 non-null  float64\n",
            " 34  Min              1048575 non-null  float64\n",
            " 35  Max              1048575 non-null  float64\n",
            " 36  AVG              1048575 non-null  float64\n",
            " 37  Std              1048575 non-null  float64\n",
            " 38  Tot size         1048575 non-null  float64\n",
            " 39  IAT              1048575 non-null  float64\n",
            " 40  Number           1048575 non-null  float64\n",
            " 41  Magnitue         1048575 non-null  float64\n",
            " 42  Radius           1048575 non-null  float64\n",
            " 43  Covariance       1048575 non-null  float64\n",
            " 44  Variance         1048575 non-null  float64\n",
            " 45  Weight           1048575 non-null  float64\n",
            " 46  label            1048575 non-null  int32  \n",
            "dtypes: float64(25), int32(1), int64(21)\n",
            "memory usage: 372.0 MB\n"
          ]
        }
      ],
      "source": [
        "# drop NULLs & reset index\n",
        "df.dropna(inplace=True)\n",
        "df.reset_index(inplace=True, drop=True)\n",
        "\n",
        "# encoding the target / label\n",
        "le = LabelEncoder()\n",
        "df['label'] = le.fit_transform(df['label'])\n",
        "\n",
        "\n",
        "# view\n",
        "df.info()"
      ]
    },
    {
      "cell_type": "code",
      "execution_count": 16,
      "metadata": {
        "colab": {
          "base_uri": "https://localhost:8080/"
        },
        "id": "njnHSMyy78gX",
        "outputId": "5f6f8592-eb65-44ad-9d91-731cd95d13cd"
      },
      "outputs": [
        {
          "data": {
            "text/plain": [
              "Index([], dtype='object')"
            ]
          },
          "execution_count": 16,
          "metadata": {},
          "output_type": "execute_result"
        }
      ],
      "source": [
        "num_col = df.select_dtypes(include='number').columns\n",
        "\n",
        "# selecting categorical data attributes\n",
        "cat_col = df.columns.difference(num_col)\n",
        "cat_col = cat_col[1:]\n",
        "cat_col"
      ]
    },
    {
      "cell_type": "code",
      "execution_count": 17,
      "metadata": {
        "colab": {
          "base_uri": "https://localhost:8080/",
          "height": 189
        },
        "id": "-oLJoTGA8jMe",
        "outputId": "10ef0414-e856-4b5a-d9ea-0ac7c71ca1f4"
      },
      "outputs": [
        {
          "data": {
            "text/html": [
              "<div>\n",
              "<style scoped>\n",
              "    .dataframe tbody tr th:only-of-type {\n",
              "        vertical-align: middle;\n",
              "    }\n",
              "\n",
              "    .dataframe tbody tr th {\n",
              "        vertical-align: top;\n",
              "    }\n",
              "\n",
              "    .dataframe thead th {\n",
              "        text-align: right;\n",
              "    }\n",
              "</style>\n",
              "<table border=\"1\" class=\"dataframe\">\n",
              "  <thead>\n",
              "    <tr style=\"text-align: right;\">\n",
              "      <th></th>\n",
              "    </tr>\n",
              "  </thead>\n",
              "  <tbody>\n",
              "    <tr>\n",
              "      <th>0</th>\n",
              "    </tr>\n",
              "    <tr>\n",
              "      <th>1</th>\n",
              "    </tr>\n",
              "    <tr>\n",
              "      <th>2</th>\n",
              "    </tr>\n",
              "    <tr>\n",
              "      <th>3</th>\n",
              "    </tr>\n",
              "    <tr>\n",
              "      <th>4</th>\n",
              "    </tr>\n",
              "  </tbody>\n",
              "</table>\n",
              "</div>"
            ],
            "text/plain": [
              "Empty DataFrame\n",
              "Columns: []\n",
              "Index: [0, 1, 2, 3, 4]"
            ]
          },
          "execution_count": 17,
          "metadata": {},
          "output_type": "execute_result"
        }
      ],
      "source": [
        "# creating a dataframe with only categorical attributes\n",
        "df_cat = df[cat_col].copy()\n",
        "df_cat.head()"
      ]
    },
    {
      "cell_type": "code",
      "execution_count": 18,
      "metadata": {
        "colab": {
          "base_uri": "https://localhost:8080/"
        },
        "id": "vIx9vhyP9bOw",
        "outputId": "3524501c-2914-4194-8e60-fb6180fe50e9"
      },
      "outputs": [
        {
          "data": {
            "text/plain": [
              "(1048575, 47)"
            ]
          },
          "execution_count": 18,
          "metadata": {},
          "output_type": "execute_result"
        }
      ],
      "source": [
        "df.shape"
      ]
    },
    {
      "cell_type": "markdown",
      "metadata": {
        "id": "LD_4hJlNZUpQ"
      },
      "source": [
        "**NORMALIZATION**\n",
        "\n",
        "Normalization is a data preprocessing technique that scales numeric\n",
        "features to a specific range or distribution, typically between 0 and 1 (Min-Max normalization).\n",
        "\n",
        "\n"
      ]
    },
    {
      "cell_type": "markdown",
      "metadata": {
        "id": "Wnnj_d1FBGTL"
      },
      "source": [
        "**num_col :** will contain all numeric columns\n",
        "\n",
        "**select_dtypes(include='number')** : used to filter the numeric columns.\n",
        "\n",
        "**num_col.remove('flow_duration') :**  removes the column from the list of numeric columns.\n",
        "\n",
        "**num_col.remove('label') :**  removes the column 'label' from the list of numeric columns.\n",
        "\n"
      ]
    },
    {
      "cell_type": "code",
      "execution_count": 19,
      "metadata": {
        "colab": {
          "base_uri": "https://localhost:8080/"
        },
        "id": "G_lu9OTbWmCz",
        "outputId": "2c576333-eca6-44aa-e21f-3b421131b566"
      },
      "outputs": [
        {
          "name": "stdout",
          "output_type": "stream",
          "text": [
            "['Header_Length', 'Protocol Type', 'Duration', 'Rate', 'Srate', 'Drate', 'fin_flag_number', 'syn_flag_number', 'rst_flag_number', 'psh_flag_number', 'ack_flag_number', 'ece_flag_number', 'cwr_flag_number', 'ack_count', 'syn_count', 'fin_count', 'urg_count', 'rst_count', 'HTTP', 'HTTPS', 'DNS', 'Telnet', 'SMTP', 'SSH', 'IRC', 'TCP', 'UDP', 'DHCP', 'ARP', 'ICMP', 'IPv', 'LLC', 'Tot sum', 'Min', 'Max', 'AVG', 'Std', 'Tot size', 'IAT', 'Number', 'Magnitue', 'Radius', 'Covariance', 'Variance', 'Weight']\n"
          ]
        }
      ],
      "source": [
        "# selecting numeric attributes columns from data\n",
        "num_col = list(df.select_dtypes(include='number').columns)\n",
        "num_col.remove('flow_duration')\n",
        "num_col.remove('label')\n",
        "print(num_col)"
      ]
    },
    {
      "cell_type": "markdown",
      "metadata": {
        "id": "cwljTx5HCsnK"
      },
      "source": [
        "**MinMaxScaler** : used to normalize specific columns of a DataFrame"
      ]
    },
    {
      "cell_type": "code",
      "execution_count": 20,
      "metadata": {
        "colab": {
          "base_uri": "https://localhost:8080/",
          "height": 273
        },
        "id": "ULi9G_wxz508",
        "outputId": "895f1104-49c7-4484-b51d-6820d821167e"
      },
      "outputs": [
        {
          "data": {
            "text/html": [
              "<div>\n",
              "<style scoped>\n",
              "    .dataframe tbody tr th:only-of-type {\n",
              "        vertical-align: middle;\n",
              "    }\n",
              "\n",
              "    .dataframe tbody tr th {\n",
              "        vertical-align: top;\n",
              "    }\n",
              "\n",
              "    .dataframe thead th {\n",
              "        text-align: right;\n",
              "    }\n",
              "</style>\n",
              "<table border=\"1\" class=\"dataframe\">\n",
              "  <thead>\n",
              "    <tr style=\"text-align: right;\">\n",
              "      <th></th>\n",
              "      <th>flow_duration</th>\n",
              "      <th>Header_Length</th>\n",
              "      <th>Protocol Type</th>\n",
              "      <th>Duration</th>\n",
              "      <th>Rate</th>\n",
              "      <th>Srate</th>\n",
              "      <th>Drate</th>\n",
              "      <th>fin_flag_number</th>\n",
              "      <th>syn_flag_number</th>\n",
              "      <th>rst_flag_number</th>\n",
              "      <th>...</th>\n",
              "      <th>Std</th>\n",
              "      <th>Tot size</th>\n",
              "      <th>IAT</th>\n",
              "      <th>Number</th>\n",
              "      <th>Magnitue</th>\n",
              "      <th>Radius</th>\n",
              "      <th>Covariance</th>\n",
              "      <th>Variance</th>\n",
              "      <th>Weight</th>\n",
              "      <th>label</th>\n",
              "    </tr>\n",
              "  </thead>\n",
              "  <tbody>\n",
              "    <tr>\n",
              "      <th>0</th>\n",
              "      <td>0.000000</td>\n",
              "      <td>54.00</td>\n",
              "      <td>6.00</td>\n",
              "      <td>64.00</td>\n",
              "      <td>0.329807</td>\n",
              "      <td>0.329807</td>\n",
              "      <td>0.0</td>\n",
              "      <td>1</td>\n",
              "      <td>0</td>\n",
              "      <td>1</td>\n",
              "      <td>...</td>\n",
              "      <td>0.000000</td>\n",
              "      <td>54.00</td>\n",
              "      <td>83343831.92</td>\n",
              "      <td>9.5</td>\n",
              "      <td>10.392305</td>\n",
              "      <td>0.000000</td>\n",
              "      <td>0.000000</td>\n",
              "      <td>0.00</td>\n",
              "      <td>141.55</td>\n",
              "      <td>9</td>\n",
              "    </tr>\n",
              "    <tr>\n",
              "      <th>1</th>\n",
              "      <td>0.000000</td>\n",
              "      <td>57.04</td>\n",
              "      <td>6.33</td>\n",
              "      <td>64.00</td>\n",
              "      <td>4.290556</td>\n",
              "      <td>4.290556</td>\n",
              "      <td>0.0</td>\n",
              "      <td>0</td>\n",
              "      <td>0</td>\n",
              "      <td>0</td>\n",
              "      <td>...</td>\n",
              "      <td>2.822973</td>\n",
              "      <td>57.04</td>\n",
              "      <td>82926067.47</td>\n",
              "      <td>9.5</td>\n",
              "      <td>10.464666</td>\n",
              "      <td>4.010353</td>\n",
              "      <td>160.987842</td>\n",
              "      <td>0.05</td>\n",
              "      <td>141.55</td>\n",
              "      <td>20</td>\n",
              "    </tr>\n",
              "    <tr>\n",
              "      <th>2</th>\n",
              "      <td>0.000000</td>\n",
              "      <td>0.00</td>\n",
              "      <td>1.00</td>\n",
              "      <td>64.00</td>\n",
              "      <td>33.396799</td>\n",
              "      <td>33.396799</td>\n",
              "      <td>0.0</td>\n",
              "      <td>0</td>\n",
              "      <td>0</td>\n",
              "      <td>0</td>\n",
              "      <td>...</td>\n",
              "      <td>0.000000</td>\n",
              "      <td>42.00</td>\n",
              "      <td>83127993.93</td>\n",
              "      <td>9.5</td>\n",
              "      <td>9.165151</td>\n",
              "      <td>0.000000</td>\n",
              "      <td>0.000000</td>\n",
              "      <td>0.00</td>\n",
              "      <td>141.55</td>\n",
              "      <td>6</td>\n",
              "    </tr>\n",
              "    <tr>\n",
              "      <th>3</th>\n",
              "      <td>0.328175</td>\n",
              "      <td>76175.00</td>\n",
              "      <td>17.00</td>\n",
              "      <td>64.00</td>\n",
              "      <td>4642.133010</td>\n",
              "      <td>4642.133010</td>\n",
              "      <td>0.0</td>\n",
              "      <td>0</td>\n",
              "      <td>0</td>\n",
              "      <td>0</td>\n",
              "      <td>...</td>\n",
              "      <td>0.000000</td>\n",
              "      <td>50.00</td>\n",
              "      <td>83015696.38</td>\n",
              "      <td>9.5</td>\n",
              "      <td>10.000000</td>\n",
              "      <td>0.000000</td>\n",
              "      <td>0.000000</td>\n",
              "      <td>0.00</td>\n",
              "      <td>141.55</td>\n",
              "      <td>21</td>\n",
              "    </tr>\n",
              "    <tr>\n",
              "      <th>4</th>\n",
              "      <td>0.117320</td>\n",
              "      <td>101.73</td>\n",
              "      <td>6.11</td>\n",
              "      <td>65.91</td>\n",
              "      <td>6.202211</td>\n",
              "      <td>6.202211</td>\n",
              "      <td>0.0</td>\n",
              "      <td>0</td>\n",
              "      <td>1</td>\n",
              "      <td>0</td>\n",
              "      <td>...</td>\n",
              "      <td>23.113111</td>\n",
              "      <td>57.88</td>\n",
              "      <td>82972999.18</td>\n",
              "      <td>9.5</td>\n",
              "      <td>11.346876</td>\n",
              "      <td>32.716243</td>\n",
              "      <td>3016.808286</td>\n",
              "      <td>0.19</td>\n",
              "      <td>141.55</td>\n",
              "      <td>19</td>\n",
              "    </tr>\n",
              "  </tbody>\n",
              "</table>\n",
              "<p>5 rows × 47 columns</p>\n",
              "</div>"
            ],
            "text/plain": [
              "   flow_duration  Header_Length  Protocol Type  Duration         Rate  \\\n",
              "0       0.000000          54.00           6.00     64.00     0.329807   \n",
              "1       0.000000          57.04           6.33     64.00     4.290556   \n",
              "2       0.000000           0.00           1.00     64.00    33.396799   \n",
              "3       0.328175       76175.00          17.00     64.00  4642.133010   \n",
              "4       0.117320         101.73           6.11     65.91     6.202211   \n",
              "\n",
              "         Srate  Drate  fin_flag_number  syn_flag_number  rst_flag_number  ...  \\\n",
              "0     0.329807    0.0                1                0                1  ...   \n",
              "1     4.290556    0.0                0                0                0  ...   \n",
              "2    33.396799    0.0                0                0                0  ...   \n",
              "3  4642.133010    0.0                0                0                0  ...   \n",
              "4     6.202211    0.0                0                1                0  ...   \n",
              "\n",
              "         Std  Tot size          IAT  Number   Magnitue     Radius  \\\n",
              "0   0.000000     54.00  83343831.92     9.5  10.392305   0.000000   \n",
              "1   2.822973     57.04  82926067.47     9.5  10.464666   4.010353   \n",
              "2   0.000000     42.00  83127993.93     9.5   9.165151   0.000000   \n",
              "3   0.000000     50.00  83015696.38     9.5  10.000000   0.000000   \n",
              "4  23.113111     57.88  82972999.18     9.5  11.346876  32.716243   \n",
              "\n",
              "    Covariance  Variance  Weight  label  \n",
              "0     0.000000      0.00  141.55      9  \n",
              "1   160.987842      0.05  141.55     20  \n",
              "2     0.000000      0.00  141.55      6  \n",
              "3     0.000000      0.00  141.55     21  \n",
              "4  3016.808286      0.19  141.55     19  \n",
              "\n",
              "[5 rows x 47 columns]"
            ]
          },
          "execution_count": 20,
          "metadata": {},
          "output_type": "execute_result"
        }
      ],
      "source": [
        "# using minmax scaler for normalizing data\n",
        "minmax_scale = MinMaxScaler(feature_range=(0, 1))\n",
        "def normalization(df,col):\n",
        "  for i in col:\n",
        "    arr = df[i]\n",
        "    arr = np.array(arr)\n",
        "    df[i] = minmax_scale.fit_transform(arr.reshape(len(arr),1))\n",
        "  return df\n",
        "\n",
        "# data before normalization\n",
        "df.head()"
      ]
    },
    {
      "cell_type": "code",
      "execution_count": 21,
      "metadata": {
        "colab": {
          "base_uri": "https://localhost:8080/",
          "height": 360
        },
        "id": "efUcZ7kY1UB7",
        "outputId": "9ec50527-16c3-4d5d-bdd8-8dcd62382cd2"
      },
      "outputs": [
        {
          "data": {
            "text/html": [
              "<div>\n",
              "<style scoped>\n",
              "    .dataframe tbody tr th:only-of-type {\n",
              "        vertical-align: middle;\n",
              "    }\n",
              "\n",
              "    .dataframe tbody tr th {\n",
              "        vertical-align: top;\n",
              "    }\n",
              "\n",
              "    .dataframe thead th {\n",
              "        text-align: right;\n",
              "    }\n",
              "</style>\n",
              "<table border=\"1\" class=\"dataframe\">\n",
              "  <thead>\n",
              "    <tr style=\"text-align: right;\">\n",
              "      <th></th>\n",
              "      <th>flow_duration</th>\n",
              "      <th>Header_Length</th>\n",
              "      <th>Protocol Type</th>\n",
              "      <th>Duration</th>\n",
              "      <th>Rate</th>\n",
              "      <th>Srate</th>\n",
              "      <th>Drate</th>\n",
              "      <th>fin_flag_number</th>\n",
              "      <th>syn_flag_number</th>\n",
              "      <th>rst_flag_number</th>\n",
              "      <th>...</th>\n",
              "      <th>Std</th>\n",
              "      <th>Tot size</th>\n",
              "      <th>IAT</th>\n",
              "      <th>Number</th>\n",
              "      <th>Magnitue</th>\n",
              "      <th>Radius</th>\n",
              "      <th>Covariance</th>\n",
              "      <th>Variance</th>\n",
              "      <th>Weight</th>\n",
              "      <th>label</th>\n",
              "    </tr>\n",
              "  </thead>\n",
              "  <tbody>\n",
              "    <tr>\n",
              "      <th>0</th>\n",
              "      <td>0.000000</td>\n",
              "      <td>0.000006</td>\n",
              "      <td>0.127660</td>\n",
              "      <td>0.250980</td>\n",
              "      <td>4.493266e-08</td>\n",
              "      <td>4.493266e-08</td>\n",
              "      <td>0.0</td>\n",
              "      <td>1.0</td>\n",
              "      <td>0.0</td>\n",
              "      <td>1.0</td>\n",
              "      <td>...</td>\n",
              "      <td>0.000000</td>\n",
              "      <td>0.000919</td>\n",
              "      <td>0.497161</td>\n",
              "      <td>0.607143</td>\n",
              "      <td>0.010575</td>\n",
              "      <td>0.000000</td>\n",
              "      <td>0.000000</td>\n",
              "      <td>0.00</td>\n",
              "      <td>0.57697</td>\n",
              "      <td>9</td>\n",
              "    </tr>\n",
              "    <tr>\n",
              "      <th>1</th>\n",
              "      <td>0.000000</td>\n",
              "      <td>0.000006</td>\n",
              "      <td>0.134681</td>\n",
              "      <td>0.250980</td>\n",
              "      <td>5.845419e-07</td>\n",
              "      <td>5.845419e-07</td>\n",
              "      <td>0.0</td>\n",
              "      <td>0.0</td>\n",
              "      <td>0.0</td>\n",
              "      <td>0.0</td>\n",
              "      <td>...</td>\n",
              "      <td>0.000257</td>\n",
              "      <td>0.001152</td>\n",
              "      <td>0.494669</td>\n",
              "      <td>0.607143</td>\n",
              "      <td>0.011198</td>\n",
              "      <td>0.000258</td>\n",
              "      <td>0.000001</td>\n",
              "      <td>0.05</td>\n",
              "      <td>0.57697</td>\n",
              "      <td>20</td>\n",
              "    </tr>\n",
              "    <tr>\n",
              "      <th>2</th>\n",
              "      <td>0.000000</td>\n",
              "      <td>0.000000</td>\n",
              "      <td>0.021277</td>\n",
              "      <td>0.250980</td>\n",
              "      <td>4.549953e-06</td>\n",
              "      <td>4.549953e-06</td>\n",
              "      <td>0.0</td>\n",
              "      <td>0.0</td>\n",
              "      <td>0.0</td>\n",
              "      <td>0.0</td>\n",
              "      <td>...</td>\n",
              "      <td>0.000000</td>\n",
              "      <td>0.000000</td>\n",
              "      <td>0.495874</td>\n",
              "      <td>0.607143</td>\n",
              "      <td>0.000000</td>\n",
              "      <td>0.000000</td>\n",
              "      <td>0.000000</td>\n",
              "      <td>0.00</td>\n",
              "      <td>0.57697</td>\n",
              "      <td>6</td>\n",
              "    </tr>\n",
              "    <tr>\n",
              "      <th>3</th>\n",
              "      <td>0.328175</td>\n",
              "      <td>0.007761</td>\n",
              "      <td>0.361702</td>\n",
              "      <td>0.250980</td>\n",
              "      <td>6.324404e-04</td>\n",
              "      <td>6.324404e-04</td>\n",
              "      <td>0.0</td>\n",
              "      <td>0.0</td>\n",
              "      <td>0.0</td>\n",
              "      <td>0.0</td>\n",
              "      <td>...</td>\n",
              "      <td>0.000000</td>\n",
              "      <td>0.000613</td>\n",
              "      <td>0.495204</td>\n",
              "      <td>0.607143</td>\n",
              "      <td>0.007194</td>\n",
              "      <td>0.000000</td>\n",
              "      <td>0.000000</td>\n",
              "      <td>0.00</td>\n",
              "      <td>0.57697</td>\n",
              "      <td>21</td>\n",
              "    </tr>\n",
              "    <tr>\n",
              "      <th>4</th>\n",
              "      <td>0.117320</td>\n",
              "      <td>0.000010</td>\n",
              "      <td>0.130000</td>\n",
              "      <td>0.258471</td>\n",
              "      <td>8.449842e-07</td>\n",
              "      <td>8.449842e-07</td>\n",
              "      <td>0.0</td>\n",
              "      <td>0.0</td>\n",
              "      <td>1.0</td>\n",
              "      <td>0.0</td>\n",
              "      <td>...</td>\n",
              "      <td>0.002102</td>\n",
              "      <td>0.001216</td>\n",
              "      <td>0.494949</td>\n",
              "      <td>0.607143</td>\n",
              "      <td>0.018801</td>\n",
              "      <td>0.002104</td>\n",
              "      <td>0.000022</td>\n",
              "      <td>0.19</td>\n",
              "      <td>0.57697</td>\n",
              "      <td>19</td>\n",
              "    </tr>\n",
              "  </tbody>\n",
              "</table>\n",
              "<p>5 rows × 47 columns</p>\n",
              "</div>"
            ],
            "text/plain": [
              "   flow_duration  Header_Length  Protocol Type  Duration          Rate  \\\n",
              "0       0.000000       0.000006       0.127660  0.250980  4.493266e-08   \n",
              "1       0.000000       0.000006       0.134681  0.250980  5.845419e-07   \n",
              "2       0.000000       0.000000       0.021277  0.250980  4.549953e-06   \n",
              "3       0.328175       0.007761       0.361702  0.250980  6.324404e-04   \n",
              "4       0.117320       0.000010       0.130000  0.258471  8.449842e-07   \n",
              "\n",
              "          Srate  Drate  fin_flag_number  syn_flag_number  rst_flag_number  \\\n",
              "0  4.493266e-08    0.0              1.0              0.0              1.0   \n",
              "1  5.845419e-07    0.0              0.0              0.0              0.0   \n",
              "2  4.549953e-06    0.0              0.0              0.0              0.0   \n",
              "3  6.324404e-04    0.0              0.0              0.0              0.0   \n",
              "4  8.449842e-07    0.0              0.0              1.0              0.0   \n",
              "\n",
              "   ...       Std  Tot size       IAT    Number  Magnitue    Radius  \\\n",
              "0  ...  0.000000  0.000919  0.497161  0.607143  0.010575  0.000000   \n",
              "1  ...  0.000257  0.001152  0.494669  0.607143  0.011198  0.000258   \n",
              "2  ...  0.000000  0.000000  0.495874  0.607143  0.000000  0.000000   \n",
              "3  ...  0.000000  0.000613  0.495204  0.607143  0.007194  0.000000   \n",
              "4  ...  0.002102  0.001216  0.494949  0.607143  0.018801  0.002104   \n",
              "\n",
              "   Covariance  Variance   Weight  label  \n",
              "0    0.000000      0.00  0.57697      9  \n",
              "1    0.000001      0.05  0.57697     20  \n",
              "2    0.000000      0.00  0.57697      6  \n",
              "3    0.000000      0.00  0.57697     21  \n",
              "4    0.000022      0.19  0.57697     19  \n",
              "\n",
              "[5 rows x 47 columns]"
            ]
          },
          "execution_count": 21,
          "metadata": {},
          "output_type": "execute_result"
        }
      ],
      "source": [
        "# calling normalization() function\n",
        "df = normalization(df.copy(),num_col)\n",
        "\n",
        "# data after normalization\n",
        "df.head()"
      ]
    },
    {
      "cell_type": "markdown",
      "metadata": {
        "id": "EExKwAaNEBvy"
      },
      "source": [
        "DATA PREPROCESSING"
      ]
    },
    {
      "cell_type": "markdown",
      "metadata": {
        "id": "HBQ9EaI75Ovg"
      },
      "source": [
        "LABEL ENCODING"
      ]
    },
    {
      "cell_type": "markdown",
      "metadata": {
        "id": "37_0FvK079Qj"
      },
      "source": [
        "**Binary Labels**\n",
        "\n",
        "**bin_label :**  where the 'label' column from the original DataFrame is mapped to 'normal' if the value is 0 and 'abnormal' if the value is not 0\n",
        "\n",
        "**bin_label.apply(le1.fit_transform) :** Replace the 'label' column in DataFrame with the label-encoded values (0s and 1s)\n",
        "\n"
      ]
    },
    {
      "cell_type": "code",
      "execution_count": 22,
      "metadata": {
        "colab": {
          "base_uri": "https://localhost:8080/"
        },
        "id": "7038tViY5ASq",
        "outputId": "1e0a9c61-febe-49cf-f9c8-43b2a3ede7db"
      },
      "outputs": [
        {
          "data": {
            "text/plain": [
              "array(['abnormal', 'normal'], dtype=object)"
            ]
          },
          "execution_count": 22,
          "metadata": {},
          "output_type": "execute_result"
        }
      ],
      "source": [
        "# changing attack labels into two categories 'normal' and 'abnormal'\n",
        "bin_label = pd.DataFrame(df.label.map(lambda x:'normal' if x==0 else 'abnormal'))\n",
        "\n",
        "# creating a dataframe with binary labels (normal,abnormal)\n",
        "bin_df = df.copy()\n",
        "bin_df['label'] = bin_label\n",
        "\n",
        "# label encoding (0,1) binary labels\n",
        "le = preprocessing.LabelEncoder()\n",
        "enc_label = bin_label.apply(le.fit_transform)\n",
        "bin_df['label'] = enc_label\n",
        "\n",
        "le.classes_"
      ]
    },
    {
      "cell_type": "markdown",
      "metadata": {
        "id": "NiBOfYqp-xhL"
      },
      "source": [
        "# ***Correlation between features of dataset***"
      ]
    },
    {
      "cell_type": "code",
      "execution_count": 23,
      "metadata": {
        "id": "0jgnwMbc-dzQ"
      },
      "outputs": [],
      "source": [
        "num_col.append('label')"
      ]
    },
    {
      "cell_type": "markdown",
      "metadata": {
        "id": "Uc6rft7TnAfo"
      },
      "source": [
        "#**Correlation Matrix for Binary Labels**"
      ]
    },
    {
      "cell_type": "code",
      "execution_count": 24,
      "metadata": {
        "colab": {
          "base_uri": "https://localhost:8080/",
          "height": 558
        },
        "id": "vCcGVASx8NO3",
        "outputId": "9dbaf3d0-be3b-4a37-ffbe-ebbd67edb2a5"
      },
      "outputs": [
        {
          "data": {
            "text/plain": [
              "<AxesSubplot:>"
            ]
          },
          "execution_count": 24,
          "metadata": {},
          "output_type": "execute_result"
        },
        {
          "data": {
            "image/png": "[encoded data removed]",
            "text/plain": [
              "<Figure size 432x288 with 2 Axes>"
            ]
          },
          "metadata": {
            "needs_background": "light"
          },
          "output_type": "display_data"
        }
      ],
      "source": [
        "# finding the attributes which have more than 0 correlation with encoded attack label attribute\n",
        "corr_bin = bin_df[num_col].corr()\n",
        "sns.heatmap(corr_bin,vmax=1.0,annot=False)"
      ]
    },
    {
      "cell_type": "markdown",
      "metadata": {
        "id": "MOkD6ZXSFpnM"
      },
      "source": [
        "# FEATURE SELECTION"
      ]
    },
    {
      "cell_type": "code",
      "execution_count": 25,
      "metadata": {
        "colab": {
          "base_uri": "https://localhost:8080/"
        },
        "id": "yen7m_fp_Dx2",
        "outputId": "73142dc1-71d6-4f49-9a80-d49387012b89"
      },
      "outputs": [
        {
          "data": {
            "text/plain": [
              "DHCP               0.000012\n",
              "Drate              0.000018\n",
              "SSH                0.000066\n",
              "ARP                0.000070\n",
              "LLC                0.000091\n",
              "IPv                0.000091\n",
              "DNS                0.000099\n",
              "HTTP               0.000164\n",
              "Protocol Type      0.000314\n",
              "Rate               0.000389\n",
              "Srate              0.000389\n",
              "ack_count          0.000461\n",
              "Header_Length      0.000603\n",
              "TCP                0.000985\n",
              "rst_count          0.001561\n",
              "UDP                0.001674\n",
              "syn_count          0.001976\n",
              "fin_flag_number    0.002621\n",
              "psh_flag_number    0.002646\n",
              "fin_count          0.002674\n",
              "rst_flag_number    0.002687\n",
              "Min                0.002865\n",
              "Covariance         0.003372\n",
              "ICMP               0.003762\n",
              "urg_count          0.003794\n",
              "syn_flag_number    0.004354\n",
              "AVG                0.005272\n",
              "Tot sum            0.006687\n",
              "Magnitue           0.006910\n",
              "Tot size           0.007054\n",
              "Std                0.007767\n",
              "Radius             0.007767\n",
              "HTTPS              0.008727\n",
              "Number             0.008777\n",
              "Weight             0.008792\n",
              "Max                0.008917\n",
              "IAT                0.009137\n",
              "ack_flag_number    0.011082\n",
              "Duration           0.027642\n",
              "Variance           0.028479\n",
              "label              1.000000\n",
              "Name: label, dtype: float64"
            ]
          },
          "execution_count": 25,
          "metadata": {},
          "output_type": "execute_result"
        }
      ],
      "source": [
        "# finding the attributes which have more than correlation with encoded attack label attribute\n",
        "corr_ybin = abs(corr_bin['label'])\n",
        "highest_corr_bin = corr_ybin[corr_ybin >0]\n",
        "highest_corr_bin.sort_values(ascending=True)"
      ]
    },
    {
      "cell_type": "code",
      "execution_count": 26,
      "metadata": {
        "colab": {
          "base_uri": "https://localhost:8080/"
        },
        "id": "U8WiilDA8l4f",
        "outputId": "d9f65b3c-c440-42ac-8ee2-1d735fd9acae"
      },
      "outputs": [
        {
          "data": {
            "text/plain": [
              "Index(['Header_Length', 'Protocol Type', 'Duration', 'Rate', 'Srate', 'Drate',\n",
              "       'fin_flag_number', 'syn_flag_number', 'rst_flag_number',\n",
              "       'psh_flag_number', 'ack_flag_number', 'ack_count', 'syn_count',\n",
              "       'fin_count', 'urg_count', 'rst_count', 'HTTP', 'HTTPS', 'DNS', 'SSH',\n",
              "       'TCP', 'UDP', 'DHCP', 'ARP', 'ICMP', 'IPv', 'LLC', 'Tot sum', 'Min',\n",
              "       'Max', 'AVG', 'Std', 'Tot size', 'IAT', 'Number', 'Magnitue', 'Radius',\n",
              "       'Covariance', 'Variance', 'Weight', 'label'],\n",
              "      dtype='object')"
            ]
          },
          "execution_count": 26,
          "metadata": {},
          "output_type": "execute_result"
        }
      ],
      "source": [
        "# selecting attributes found by using pearson correlation coefficient\n",
        "bin_cols = highest_corr_bin.index\n",
        "bin_cols"
      ]
    },
    {
      "cell_type": "code",
      "execution_count": 27,
      "metadata": {
        "colab": {
          "base_uri": "https://localhost:8080/",
          "height": 635
        },
        "id": "T6LURms08rUC",
        "outputId": "9aabfdb4-5791-4ca7-9ebe-b072c10761ff"
      },
      "outputs": [
        {
          "data": {
            "text/html": [
              "<div>\n",
              "<style scoped>\n",
              "    .dataframe tbody tr th:only-of-type {\n",
              "        vertical-align: middle;\n",
              "    }\n",
              "\n",
              "    .dataframe tbody tr th {\n",
              "        vertical-align: top;\n",
              "    }\n",
              "\n",
              "    .dataframe thead th {\n",
              "        text-align: right;\n",
              "    }\n",
              "</style>\n",
              "<table border=\"1\" class=\"dataframe\">\n",
              "  <thead>\n",
              "    <tr style=\"text-align: right;\">\n",
              "      <th></th>\n",
              "      <th>Header_Length</th>\n",
              "      <th>Protocol Type</th>\n",
              "      <th>Duration</th>\n",
              "      <th>Rate</th>\n",
              "      <th>Srate</th>\n",
              "      <th>Drate</th>\n",
              "      <th>fin_flag_number</th>\n",
              "      <th>syn_flag_number</th>\n",
              "      <th>rst_flag_number</th>\n",
              "      <th>psh_flag_number</th>\n",
              "      <th>...</th>\n",
              "      <th>Std</th>\n",
              "      <th>Tot size</th>\n",
              "      <th>IAT</th>\n",
              "      <th>Number</th>\n",
              "      <th>Magnitue</th>\n",
              "      <th>Radius</th>\n",
              "      <th>Covariance</th>\n",
              "      <th>Variance</th>\n",
              "      <th>Weight</th>\n",
              "      <th>label</th>\n",
              "    </tr>\n",
              "  </thead>\n",
              "  <tbody>\n",
              "    <tr>\n",
              "      <th>0</th>\n",
              "      <td>5.501472e-06</td>\n",
              "      <td>0.127660</td>\n",
              "      <td>0.250980</td>\n",
              "      <td>4.493266e-08</td>\n",
              "      <td>4.493266e-08</td>\n",
              "      <td>0.0</td>\n",
              "      <td>1.0</td>\n",
              "      <td>0.0</td>\n",
              "      <td>1.0</td>\n",
              "      <td>0.0</td>\n",
              "      <td>...</td>\n",
              "      <td>0.000000</td>\n",
              "      <td>0.000919</td>\n",
              "      <td>0.497161</td>\n",
              "      <td>0.607143</td>\n",
              "      <td>0.010575</td>\n",
              "      <td>0.000000</td>\n",
              "      <td>0.000000</td>\n",
              "      <td>0.00</td>\n",
              "      <td>0.57697</td>\n",
              "      <td>0</td>\n",
              "    </tr>\n",
              "    <tr>\n",
              "      <th>1</th>\n",
              "      <td>5.811184e-06</td>\n",
              "      <td>0.134681</td>\n",
              "      <td>0.250980</td>\n",
              "      <td>5.845419e-07</td>\n",
              "      <td>5.845419e-07</td>\n",
              "      <td>0.0</td>\n",
              "      <td>0.0</td>\n",
              "      <td>0.0</td>\n",
              "      <td>0.0</td>\n",
              "      <td>0.0</td>\n",
              "      <td>...</td>\n",
              "      <td>0.000257</td>\n",
              "      <td>0.001152</td>\n",
              "      <td>0.494669</td>\n",
              "      <td>0.607143</td>\n",
              "      <td>0.011198</td>\n",
              "      <td>0.000258</td>\n",
              "      <td>0.000001</td>\n",
              "      <td>0.05</td>\n",
              "      <td>0.57697</td>\n",
              "      <td>0</td>\n",
              "    </tr>\n",
              "    <tr>\n",
              "      <th>2</th>\n",
              "      <td>0.000000e+00</td>\n",
              "      <td>0.021277</td>\n",
              "      <td>0.250980</td>\n",
              "      <td>4.549953e-06</td>\n",
              "      <td>4.549953e-06</td>\n",
              "      <td>0.0</td>\n",
              "      <td>0.0</td>\n",
              "      <td>0.0</td>\n",
              "      <td>0.0</td>\n",
              "      <td>0.0</td>\n",
              "      <td>...</td>\n",
              "      <td>0.000000</td>\n",
              "      <td>0.000000</td>\n",
              "      <td>0.495874</td>\n",
              "      <td>0.607143</td>\n",
              "      <td>0.000000</td>\n",
              "      <td>0.000000</td>\n",
              "      <td>0.000000</td>\n",
              "      <td>0.00</td>\n",
              "      <td>0.57697</td>\n",
              "      <td>0</td>\n",
              "    </tr>\n",
              "    <tr>\n",
              "      <th>3</th>\n",
              "      <td>7.760641e-03</td>\n",
              "      <td>0.361702</td>\n",
              "      <td>0.250980</td>\n",
              "      <td>6.324404e-04</td>\n",
              "      <td>6.324404e-04</td>\n",
              "      <td>0.0</td>\n",
              "      <td>0.0</td>\n",
              "      <td>0.0</td>\n",
              "      <td>0.0</td>\n",
              "      <td>0.0</td>\n",
              "      <td>...</td>\n",
              "      <td>0.000000</td>\n",
              "      <td>0.000613</td>\n",
              "      <td>0.495204</td>\n",
              "      <td>0.607143</td>\n",
              "      <td>0.007194</td>\n",
              "      <td>0.000000</td>\n",
              "      <td>0.000000</td>\n",
              "      <td>0.00</td>\n",
              "      <td>0.57697</td>\n",
              "      <td>0</td>\n",
              "    </tr>\n",
              "    <tr>\n",
              "      <th>4</th>\n",
              "      <td>1.036416e-05</td>\n",
              "      <td>0.130000</td>\n",
              "      <td>0.258471</td>\n",
              "      <td>8.449842e-07</td>\n",
              "      <td>8.449842e-07</td>\n",
              "      <td>0.0</td>\n",
              "      <td>0.0</td>\n",
              "      <td>1.0</td>\n",
              "      <td>0.0</td>\n",
              "      <td>0.0</td>\n",
              "      <td>...</td>\n",
              "      <td>0.002102</td>\n",
              "      <td>0.001216</td>\n",
              "      <td>0.494949</td>\n",
              "      <td>0.607143</td>\n",
              "      <td>0.018801</td>\n",
              "      <td>0.002104</td>\n",
              "      <td>0.000022</td>\n",
              "      <td>0.19</td>\n",
              "      <td>0.57697</td>\n",
              "      <td>0</td>\n",
              "    </tr>\n",
              "    <tr>\n",
              "      <th>...</th>\n",
              "      <td>...</td>\n",
              "      <td>...</td>\n",
              "      <td>...</td>\n",
              "      <td>...</td>\n",
              "      <td>...</td>\n",
              "      <td>...</td>\n",
              "      <td>...</td>\n",
              "      <td>...</td>\n",
              "      <td>...</td>\n",
              "      <td>...</td>\n",
              "      <td>...</td>\n",
              "      <td>...</td>\n",
              "      <td>...</td>\n",
              "      <td>...</td>\n",
              "      <td>...</td>\n",
              "      <td>...</td>\n",
              "      <td>...</td>\n",
              "      <td>...</td>\n",
              "      <td>...</td>\n",
              "      <td>...</td>\n",
              "      <td>...</td>\n",
              "    </tr>\n",
              "    <tr>\n",
              "      <th>1048570</th>\n",
              "      <td>1.100294e-05</td>\n",
              "      <td>0.127660</td>\n",
              "      <td>0.250980</td>\n",
              "      <td>1.958691e-07</td>\n",
              "      <td>1.958691e-07</td>\n",
              "      <td>0.0</td>\n",
              "      <td>0.0</td>\n",
              "      <td>1.0</td>\n",
              "      <td>0.0</td>\n",
              "      <td>0.0</td>\n",
              "      <td>...</td>\n",
              "      <td>0.000000</td>\n",
              "      <td>0.000919</td>\n",
              "      <td>0.497291</td>\n",
              "      <td>0.607143</td>\n",
              "      <td>0.010575</td>\n",
              "      <td>0.000000</td>\n",
              "      <td>0.000000</td>\n",
              "      <td>0.00</td>\n",
              "      <td>0.57697</td>\n",
              "      <td>0</td>\n",
              "    </tr>\n",
              "    <tr>\n",
              "      <th>1048571</th>\n",
              "      <td>2.180213e-07</td>\n",
              "      <td>0.993617</td>\n",
              "      <td>0.258471</td>\n",
              "      <td>0.000000e+00</td>\n",
              "      <td>0.000000e+00</td>\n",
              "      <td>0.0</td>\n",
              "      <td>0.0</td>\n",
              "      <td>0.0</td>\n",
              "      <td>0.0</td>\n",
              "      <td>0.0</td>\n",
              "      <td>...</td>\n",
              "      <td>0.000480</td>\n",
              "      <td>0.041837</td>\n",
              "      <td>0.499151</td>\n",
              "      <td>0.607143</td>\n",
              "      <td>0.217206</td>\n",
              "      <td>0.000482</td>\n",
              "      <td>0.000003</td>\n",
              "      <td>0.06</td>\n",
              "      <td>0.57697</td>\n",
              "      <td>0</td>\n",
              "    </tr>\n",
              "    <tr>\n",
              "      <th>1048572</th>\n",
              "      <td>3.142665e-03</td>\n",
              "      <td>0.361702</td>\n",
              "      <td>0.250980</td>\n",
              "      <td>8.144426e-04</td>\n",
              "      <td>8.144426e-04</td>\n",
              "      <td>0.0</td>\n",
              "      <td>0.0</td>\n",
              "      <td>0.0</td>\n",
              "      <td>0.0</td>\n",
              "      <td>0.0</td>\n",
              "      <td>...</td>\n",
              "      <td>0.000000</td>\n",
              "      <td>0.000613</td>\n",
              "      <td>0.495848</td>\n",
              "      <td>0.607143</td>\n",
              "      <td>0.007194</td>\n",
              "      <td>0.000000</td>\n",
              "      <td>0.000000</td>\n",
              "      <td>0.00</td>\n",
              "      <td>0.57697</td>\n",
              "      <td>0</td>\n",
              "    </tr>\n",
              "    <tr>\n",
              "      <th>1048573</th>\n",
              "      <td>5.501472e-06</td>\n",
              "      <td>0.127660</td>\n",
              "      <td>0.250980</td>\n",
              "      <td>3.497666e-06</td>\n",
              "      <td>3.497666e-06</td>\n",
              "      <td>0.0</td>\n",
              "      <td>1.0</td>\n",
              "      <td>0.0</td>\n",
              "      <td>1.0</td>\n",
              "      <td>0.0</td>\n",
              "      <td>...</td>\n",
              "      <td>0.000000</td>\n",
              "      <td>0.000919</td>\n",
              "      <td>0.497169</td>\n",
              "      <td>0.607143</td>\n",
              "      <td>0.010575</td>\n",
              "      <td>0.000000</td>\n",
              "      <td>0.000000</td>\n",
              "      <td>0.00</td>\n",
              "      <td>0.57697</td>\n",
              "      <td>0</td>\n",
              "    </tr>\n",
              "    <tr>\n",
              "      <th>1048574</th>\n",
              "      <td>4.344431e-04</td>\n",
              "      <td>0.151064</td>\n",
              "      <td>0.387451</td>\n",
              "      <td>1.858391e-06</td>\n",
              "      <td>1.858391e-06</td>\n",
              "      <td>0.0</td>\n",
              "      <td>0.0</td>\n",
              "      <td>0.0</td>\n",
              "      <td>0.0</td>\n",
              "      <td>0.0</td>\n",
              "      <td>...</td>\n",
              "      <td>0.010404</td>\n",
              "      <td>0.004190</td>\n",
              "      <td>0.993306</td>\n",
              "      <td>0.892857</td>\n",
              "      <td>0.068590</td>\n",
              "      <td>0.010419</td>\n",
              "      <td>0.000096</td>\n",
              "      <td>1.00</td>\n",
              "      <td>1.00000</td>\n",
              "      <td>0</td>\n",
              "    </tr>\n",
              "  </tbody>\n",
              "</table>\n",
              "<p>1048575 rows × 41 columns</p>\n",
              "</div>"
            ],
            "text/plain": [
              "         Header_Length  Protocol Type  Duration          Rate         Srate  \\\n",
              "0         5.501472e-06       0.127660  0.250980  4.493266e-08  4.493266e-08   \n",
              "1         5.811184e-06       0.134681  0.250980  5.845419e-07  5.845419e-07   \n",
              "2         0.000000e+00       0.021277  0.250980  4.549953e-06  4.549953e-06   \n",
              "3         7.760641e-03       0.361702  0.250980  6.324404e-04  6.324404e-04   \n",
              "4         1.036416e-05       0.130000  0.258471  8.449842e-07  8.449842e-07   \n",
              "...                ...            ...       ...           ...           ...   \n",
              "1048570   1.100294e-05       0.127660  0.250980  1.958691e-07  1.958691e-07   \n",
              "1048571   2.180213e-07       0.993617  0.258471  0.000000e+00  0.000000e+00   \n",
              "1048572   3.142665e-03       0.361702  0.250980  8.144426e-04  8.144426e-04   \n",
              "1048573   5.501472e-06       0.127660  0.250980  3.497666e-06  3.497666e-06   \n",
              "1048574   4.344431e-04       0.151064  0.387451  1.858391e-06  1.858391e-06   \n",
              "\n",
              "         Drate  fin_flag_number  syn_flag_number  rst_flag_number  \\\n",
              "0          0.0              1.0              0.0              1.0   \n",
              "1          0.0              0.0              0.0              0.0   \n",
              "2          0.0              0.0              0.0              0.0   \n",
              "3          0.0              0.0              0.0              0.0   \n",
              "4          0.0              0.0              1.0              0.0   \n",
              "...        ...              ...              ...              ...   \n",
              "1048570    0.0              0.0              1.0              0.0   \n",
              "1048571    0.0              0.0              0.0              0.0   \n",
              "1048572    0.0              0.0              0.0              0.0   \n",
              "1048573    0.0              1.0              0.0              1.0   \n",
              "1048574    0.0              0.0              0.0              0.0   \n",
              "\n",
              "         psh_flag_number  ...       Std  Tot size       IAT    Number  \\\n",
              "0                    0.0  ...  0.000000  0.000919  0.497161  0.607143   \n",
              "1                    0.0  ...  0.000257  0.001152  0.494669  0.607143   \n",
              "2                    0.0  ...  0.000000  0.000000  0.495874  0.607143   \n",
              "3                    0.0  ...  0.000000  0.000613  0.495204  0.607143   \n",
              "4                    0.0  ...  0.002102  0.001216  0.494949  0.607143   \n",
              "...                  ...  ...       ...       ...       ...       ...   \n",
              "1048570              0.0  ...  0.000000  0.000919  0.497291  0.607143   \n",
              "1048571              0.0  ...  0.000480  0.041837  0.499151  0.607143   \n",
              "1048572              0.0  ...  0.000000  0.000613  0.495848  0.607143   \n",
              "1048573              0.0  ...  0.000000  0.000919  0.497169  0.607143   \n",
              "1048574              0.0  ...  0.010404  0.004190  0.993306  0.892857   \n",
              "\n",
              "         Magnitue    Radius  Covariance  Variance   Weight  label  \n",
              "0        0.010575  0.000000    0.000000      0.00  0.57697      0  \n",
              "1        0.011198  0.000258    0.000001      0.05  0.57697      0  \n",
              "2        0.000000  0.000000    0.000000      0.00  0.57697      0  \n",
              "3        0.007194  0.000000    0.000000      0.00  0.57697      0  \n",
              "4        0.018801  0.002104    0.000022      0.19  0.57697      0  \n",
              "...           ...       ...         ...       ...      ...    ...  \n",
              "1048570  0.010575  0.000000    0.000000      0.00  0.57697      0  \n",
              "1048571  0.217206  0.000482    0.000003      0.06  0.57697      0  \n",
              "1048572  0.007194  0.000000    0.000000      0.00  0.57697      0  \n",
              "1048573  0.010575  0.000000    0.000000      0.00  0.57697      0  \n",
              "1048574  0.068590  0.010419    0.000096      1.00  1.00000      0  \n",
              "\n",
              "[1048575 rows x 41 columns]"
            ]
          },
          "execution_count": 27,
          "metadata": {},
          "output_type": "execute_result"
        }
      ],
      "source": [
        "# Binary labelled Dataset\n",
        "bin_df = bin_df[bin_cols].copy()\n",
        "bin_df"
      ]
    },
    {
      "cell_type": "code",
      "execution_count": 28,
      "metadata": {
        "id": "I6t2-ioJ_ELT"
      },
      "outputs": [],
      "source": [
        "X = bin_df.drop(columns=['label'],axis=1)\n",
        "Y = bin_df['label']"
      ]
    },
    {
      "cell_type": "code",
      "execution_count": 29,
      "metadata": {},
      "outputs": [
        {
          "name": "stderr",
          "output_type": "stream",
          "text": [
            "c:\\Users\\Sri Nithsh Rajkumar\\AppData\\Local\\Programs\\Python\\Python310\\lib\\site-packages\\sklearn\\metrics\\_classification.py:1327: UndefinedMetricWarning: Precision and F-score are ill-defined and being set to 0.0 in labels with no predicted samples. Use `zero_division` parameter to control this behavior.\n",
            "  _warn_prf(average, modifier, msg_start, len(result))\n",
            "c:\\Users\\Sri Nithsh Rajkumar\\AppData\\Local\\Programs\\Python\\Python310\\lib\\site-packages\\sklearn\\metrics\\_classification.py:1327: UndefinedMetricWarning: Precision and F-score are ill-defined and being set to 0.0 in labels with no predicted samples. Use `zero_division` parameter to control this behavior.\n",
            "  _warn_prf(average, modifier, msg_start, len(result))\n",
            "c:\\Users\\Sri Nithsh Rajkumar\\AppData\\Local\\Programs\\Python\\Python310\\lib\\site-packages\\sklearn\\metrics\\_classification.py:1327: UndefinedMetricWarning: Precision and F-score are ill-defined and being set to 0.0 in labels with no predicted samples. Use `zero_division` parameter to control this behavior.\n",
            "  _warn_prf(average, modifier, msg_start, len(result))\n"
          ]
        },
        {
          "name": "stdout",
          "output_type": "stream",
          "text": [
            "\n",
            "Logistic Regression Results:\n",
            "Accuracy: 0.999952316238705\n",
            "Classification Report:\n",
            "               precision    recall  f1-score   support\n",
            "\n",
            "           0       1.00      1.00      1.00    209705\n",
            "           1       0.00      0.00      0.00        10\n",
            "\n",
            "    accuracy                           1.00    209715\n",
            "   macro avg       0.50      0.50      0.50    209715\n",
            "weighted avg       1.00      1.00      1.00    209715\n",
            "\n"
          ]
        }
      ],
      "source": [
        "# Import necessary libraries\n",
        "from sklearn import datasets\n",
        "from sklearn.model_selection import train_test_split\n",
        "from sklearn.linear_model import LogisticRegression\n",
        "from sklearn.metrics import accuracy_score, classification_report\n",
        "\n",
        "# Load your IoT dataset (replace with your actual dataset)\n",
        "# X should contain your feature data, and y should contain the corresponding labels (0 for normal, 1 for intrusion).\n",
        "# You may need to perform feature engineering and preprocessing on your data.\n",
        "\n",
        "# Split the dataset into training and testing sets\n",
        "X_train, X_test, y_train, y_test = train_test_split(X, Y, test_size=0.2, random_state=42)\n",
        "\n",
        "# Create a Logistic Regression classifier\n",
        "lr_classifier = LogisticRegression(random_state=42)  # Set random state for reproducibility\n",
        "\n",
        "# Train the Logistic Regression classifier\n",
        "lr_classifier.fit(X_train, y_train)\n",
        "\n",
        "# Make predictions on the test data using Logistic Regression\n",
        "y_pred_lr = lr_classifier.predict(X_test)\n",
        "\n",
        "# Calculate accuracy and print classification report for Logistic Regression\n",
        "accuracy_lr = accuracy_score(y_test, y_pred_lr)\n",
        "report_lr = classification_report(y_test, y_pred_lr)\n",
        "\n",
        "print(\"\\nLogistic Regression Results:\")\n",
        "print(f\"Accuracy: {accuracy_lr}\")\n",
        "print(\"Classification Report:\\n\", report_lr)\n"
      ]
    },
    {
      "cell_type": "code",
      "execution_count": 30,
      "metadata": {
        "colab": {
          "base_uri": "https://localhost:8080/"
        },
        "id": "ezvi3okG-2vD",
        "outputId": "264aca91-20cb-4afa-d74f-f1b77f8d125a"
      },
      "outputs": [
        {
          "name": "stdout",
          "output_type": "stream",
          "text": [
            "Accuracy: 0.999952316238705\n",
            "Classification Report:\n",
            "               precision    recall  f1-score   support\n",
            "\n",
            "           0       1.00      1.00      1.00    209705\n",
            "           1       0.00      0.00      0.00        10\n",
            "\n",
            "    accuracy                           1.00    209715\n",
            "   macro avg       0.50      0.50      0.50    209715\n",
            "weighted avg       1.00      1.00      1.00    209715\n",
            "\n"
          ]
        },
        {
          "name": "stderr",
          "output_type": "stream",
          "text": [
            "c:\\Users\\Sri Nithsh Rajkumar\\AppData\\Local\\Programs\\Python\\Python310\\lib\\site-packages\\sklearn\\metrics\\_classification.py:1327: UndefinedMetricWarning: Precision and F-score are ill-defined and being set to 0.0 in labels with no predicted samples. Use `zero_division` parameter to control this behavior.\n",
            "  _warn_prf(average, modifier, msg_start, len(result))\n",
            "c:\\Users\\Sri Nithsh Rajkumar\\AppData\\Local\\Programs\\Python\\Python310\\lib\\site-packages\\sklearn\\metrics\\_classification.py:1327: UndefinedMetricWarning: Precision and F-score are ill-defined and being set to 0.0 in labels with no predicted samples. Use `zero_division` parameter to control this behavior.\n",
            "  _warn_prf(average, modifier, msg_start, len(result))\n",
            "c:\\Users\\Sri Nithsh Rajkumar\\AppData\\Local\\Programs\\Python\\Python310\\lib\\site-packages\\sklearn\\metrics\\_classification.py:1327: UndefinedMetricWarning: Precision and F-score are ill-defined and being set to 0.0 in labels with no predicted samples. Use `zero_division` parameter to control this behavior.\n",
            "  _warn_prf(average, modifier, msg_start, len(result))\n"
          ]
        }
      ],
      "source": [
        "# Import necessary libraries\n",
        "from sklearn import datasets\n",
        "from sklearn.model_selection import train_test_split\n",
        "from sklearn.svm import SVC\n",
        "from sklearn.metrics import accuracy_score, classification_report\n",
        "\n",
        "# Load your IoT dataset (replace with your actual dataset)\n",
        "# X should contain your feature data, and y should contain the corresponding labels (0 for normal, 1 for intrusion).\n",
        "# You may need to perform feature engineering and preprocessing on your data.\n",
        "\n",
        "# Split the dataset into training and testing sets\n",
        "X_train, X_test, y_train, y_test = train_test_split(X, Y, test_size=0.2, random_state=42)\n",
        "\n",
        "# Create an SVM classifier\n",
        "svm_classifier = SVC(kernel='linear', C=1)  # You can choose different kernel functions and adjust C parameter\n",
        "\n",
        "# Train the SVM classifier\n",
        "svm_classifier.fit(X_train, y_train)\n",
        "\n",
        "# Make predictions on the test data\n",
        "y_pred = svm_classifier.predict(X_test)\n",
        "\n",
        "# Calculate accuracy and print classification report\n",
        "accuracy = accuracy_score(y_test, y_pred)\n",
        "report = classification_report(y_test, y_pred)\n",
        "\n",
        "print(f\"Accuracy: {accuracy}\")\n",
        "print(\"Classification Report:\\n\", report)\n"
      ]
    },
    {
      "cell_type": "code",
      "execution_count": 31,
      "metadata": {
        "colab": {
          "base_uri": "https://localhost:8080/"
        },
        "id": "TtOSZpn4C8Ou",
        "outputId": "6d0e1856-b102-4596-fe6d-8c77312d1569"
      },
      "outputs": [
        {
          "name": "stdout",
          "output_type": "stream",
          "text": [
            "\n",
            "Random Forest Results:\n",
            "Accuracy: 0.999980926495482\n",
            "Classification Report:\n",
            "               precision    recall  f1-score   support\n",
            "\n",
            "           0       1.00      1.00      1.00    209705\n",
            "           1       1.00      0.60      0.75        10\n",
            "\n",
            "    accuracy                           1.00    209715\n",
            "   macro avg       1.00      0.80      0.87    209715\n",
            "weighted avg       1.00      1.00      1.00    209715\n",
            "\n"
          ]
        }
      ],
      "source": [
        "# Import necessary libraries\n",
        "from sklearn import datasets\n",
        "from sklearn.model_selection import train_test_split\n",
        "from sklearn.ensemble import RandomForestClassifier\n",
        "from sklearn.metrics import accuracy_score, classification_report\n",
        "\n",
        "# Load your IoT dataset (replace with your actual dataset)\n",
        "# X should contain your feature data, and y should contain the corresponding labels (0 for normal, 1 for intrusion).\n",
        "# You may need to perform feature engineering and preprocessing on your data.\n",
        "\n",
        "# Split the dataset into training and testing sets\n",
        "X_train, X_test, y_train, y_test = train_test_split(X, Y, test_size=0.2, random_state=42)\n",
        "\n",
        "# Create a Random Forest classifier\n",
        "rf_classifier = RandomForestClassifier(n_estimators=100, random_state=42)  # You can adjust the number of estimators\n",
        "\n",
        "# Train the Random Forest classifier\n",
        "rf_classifier.fit(X_train, y_train)\n",
        "\n",
        "# Make predictions on the test data using Random Forest\n",
        "y_pred_rf = rf_classifier.predict(X_test)\n",
        "\n",
        "# Calculate accuracy and print classification report for Random Forest\n",
        "accuracy_rf = accuracy_score(y_test, y_pred_rf)\n",
        "report_rf = classification_report(y_test, y_pred_rf)\n",
        "\n",
        "print(\"\\nRandom Forest Results:\")\n",
        "print(f\"Accuracy: {accuracy_rf}\")\n",
        "print(\"Classification Report:\\n\", report_rf)\n"
      ]
    },
    {
      "cell_type": "code",
      "execution_count": 32,
      "metadata": {
        "colab": {
          "base_uri": "https://localhost:8080/"
        },
        "id": "woLz5BRjMUO0",
        "outputId": "e801839f-2e5d-406c-8c47-b0bf27ea55cd"
      },
      "outputs": [
        {
          "name": "stderr",
          "output_type": "stream",
          "text": [
            "c:\\Users\\Sri Nithsh Rajkumar\\AppData\\Local\\Programs\\Python\\Python310\\lib\\site-packages\\sklearn\\neighbors\\_classification.py:237: FutureWarning: Unlike other reduction functions (e.g. `skew`, `kurtosis`), the default behavior of `mode` typically preserves the axis it acts along. In SciPy 1.11.0, this behavior will change: the default value of `keepdims` will become False, the `axis` over which the statistic is taken will be eliminated, and the value None will no longer be accepted. Set `keepdims` to True or False to avoid this warning.\n",
            "  mode, _ = stats.mode(_y[neigh_ind, k], axis=1)\n"
          ]
        },
        {
          "name": "stdout",
          "output_type": "stream",
          "text": [
            "K-Nearest Neighbors Results:\n",
            "Accuracy: 0.999952316238705\n",
            "Classification Report:\n",
            "               precision    recall  f1-score   support\n",
            "\n",
            "           0       1.00      1.00      1.00    209705\n",
            "           1       0.00      0.00      0.00        10\n",
            "\n",
            "    accuracy                           1.00    209715\n",
            "   macro avg       0.50      0.50      0.50    209715\n",
            "weighted avg       1.00      1.00      1.00    209715\n",
            "\n"
          ]
        },
        {
          "name": "stderr",
          "output_type": "stream",
          "text": [
            "c:\\Users\\Sri Nithsh Rajkumar\\AppData\\Local\\Programs\\Python\\Python310\\lib\\site-packages\\sklearn\\metrics\\_classification.py:1327: UndefinedMetricWarning: Precision and F-score are ill-defined and being set to 0.0 in labels with no predicted samples. Use `zero_division` parameter to control this behavior.\n",
            "  _warn_prf(average, modifier, msg_start, len(result))\n",
            "c:\\Users\\Sri Nithsh Rajkumar\\AppData\\Local\\Programs\\Python\\Python310\\lib\\site-packages\\sklearn\\metrics\\_classification.py:1327: UndefinedMetricWarning: Precision and F-score are ill-defined and being set to 0.0 in labels with no predicted samples. Use `zero_division` parameter to control this behavior.\n",
            "  _warn_prf(average, modifier, msg_start, len(result))\n",
            "c:\\Users\\Sri Nithsh Rajkumar\\AppData\\Local\\Programs\\Python\\Python310\\lib\\site-packages\\sklearn\\metrics\\_classification.py:1327: UndefinedMetricWarning: Precision and F-score are ill-defined and being set to 0.0 in labels with no predicted samples. Use `zero_division` parameter to control this behavior.\n",
            "  _warn_prf(average, modifier, msg_start, len(result))\n"
          ]
        }
      ],
      "source": [
        "# Import necessary libraries\n",
        "from sklearn.model_selection import train_test_split\n",
        "from sklearn.neighbors import KNeighborsClassifier\n",
        "from sklearn.metrics import accuracy_score, classification_report\n",
        "\n",
        "# Load your IoT dataset (replace with your actual dataset)\n",
        "# X should contain your feature data, and y should contain the corresponding labels (0 for normal, 1 for intrusion).\n",
        "# You may need to perform feature engineering and preprocessing on your data.\n",
        "\n",
        "# Split the dataset into training and testing sets\n",
        "X_train, X_test, y_train, y_test = train_test_split(X, Y, test_size=0.2, random_state=42)\n",
        "\n",
        "# Create a K-Nearest Neighbors classifier\n",
        "knn_classifier = KNeighborsClassifier(n_neighbors=5)  # You can adjust the number of neighbors\n",
        "\n",
        "# Train the KNN classifier\n",
        "knn_classifier.fit(X_train, y_train)\n",
        "\n",
        "# Make predictions on the test data using KNN\n",
        "y_pred_knn = knn_classifier.predict(X_test)\n",
        "\n",
        "# Calculate accuracy and print classification report for KNN\n",
        "accuracy_knn = accuracy_score(y_test, y_pred_knn)\n",
        "report_knn = classification_report(y_test, y_pred_knn)\n",
        "\n",
        "print(\"K-Nearest Neighbors Results:\")\n",
        "print(f\"Accuracy: {accuracy_knn}\")\n",
        "print(\"Classification Report:\\n\", report_knn)\n"
      ]
    },
    {
      "cell_type": "code",
      "execution_count": 33,
      "metadata": {
        "colab": {
          "base_uri": "https://localhost:8080/"
        },
        "id": "R7OfK5_UMTet",
        "outputId": "52f05863-2d23-483d-e315-01357bc163a6"
      },
      "outputs": [
        {
          "name": "stdout",
          "output_type": "stream",
          "text": [
            "Gradient Boosting Results:\n",
            "Accuracy: 0.999971389743223\n",
            "Classification Report:\n",
            "               precision    recall  f1-score   support\n",
            "\n",
            "           0       1.00      1.00      1.00    209705\n",
            "           1       0.70      0.70      0.70        10\n",
            "\n",
            "    accuracy                           1.00    209715\n",
            "   macro avg       0.85      0.85      0.85    209715\n",
            "weighted avg       1.00      1.00      1.00    209715\n",
            "\n"
          ]
        }
      ],
      "source": [
        "# Import necessary libraries\n",
        "from sklearn import datasets\n",
        "from sklearn.model_selection import train_test_split\n",
        "from sklearn.ensemble import GradientBoostingClassifier\n",
        "from sklearn.metrics import accuracy_score, classification_report\n",
        "\n",
        "# Load your IoT dataset (replace with your actual dataset)\n",
        "# X should contain your feature data, and y should contain the corresponding labels (0 for normal, 1 for intrusion).\n",
        "# You may need to perform feature engineering and preprocessing on your data.\n",
        "\n",
        "# Split the dataset into training and testing sets\n",
        "X_train, X_test, y_train, y_test = train_test_split(X, Y, test_size=0.2, random_state=42)\n",
        "\n",
        "# Create a Gradient Boosting Classifier\n",
        "gb_classifier = GradientBoostingClassifier(n_estimators=100, learning_rate=0.1, max_depth=3, random_state=42)\n",
        "\n",
        "# Train the Gradient Boosting Classifier\n",
        "gb_classifier.fit(X_train, y_train)\n",
        "\n",
        "# Make predictions on the test data using Gradient Boosting\n",
        "y_pred_gb = gb_classifier.predict(X_test)\n",
        "\n",
        "# Calculate accuracy and print classification report for Gradient Boosting\n",
        "accuracy_gb = accuracy_score(y_test, y_pred_gb)\n",
        "report_gb = classification_report(y_test, y_pred_gb)\n",
        "\n",
        "print(\"Gradient Boosting Results:\")\n",
        "print(f\"Accuracy: {accuracy_gb}\")\n",
        "print(\"Classification Report:\\n\", report_gb)"
      ]
    },
    {
      "cell_type": "code",
      "execution_count": 34,
      "metadata": {
        "colab": {
          "base_uri": "https://localhost:8080/"
        },
        "id": "wOpIdlQ-Wnyl",
        "outputId": "49e2e4bc-94e7-4fd0-8005-5a4daef210c7"
      },
      "outputs": [
        {
          "name": "stdout",
          "output_type": "stream",
          "text": [
            "Decision Tree Results:\n",
            "Accuracy: 0.9999237059819278\n",
            "Classification Report:\n",
            "               precision    recall  f1-score   support\n",
            "\n",
            "           0       1.00      1.00      1.00    209705\n",
            "           1       0.35      0.70      0.47        10\n",
            "\n",
            "    accuracy                           1.00    209715\n",
            "   macro avg       0.67      0.85      0.73    209715\n",
            "weighted avg       1.00      1.00      1.00    209715\n",
            "\n"
          ]
        }
      ],
      "source": [
        "# Import necessary libraries\n",
        "from sklearn.model_selection import train_test_split\n",
        "from sklearn.tree import DecisionTreeClassifier\n",
        "from sklearn.metrics import accuracy_score, classification_report\n",
        "\n",
        "# Load your IoT dataset (replace with your actual dataset)\n",
        "# X should contain your feature data, and y should contain the corresponding labels (0 for normal, 1 for intrusion).\n",
        "# You may need to perform feature engineering and preprocessing on your data.\n",
        "\n",
        "# Split the dataset into training and testing sets\n",
        "X_train, X_test, y_train, y_test = train_test_split(X, Y, test_size=0.2, random_state=42)\n",
        "\n",
        "# Create a Decision Tree classifier\n",
        "decision_tree_classifier = DecisionTreeClassifier(random_state=42)\n",
        "\n",
        "# Train the Decision Tree classifier\n",
        "decision_tree_classifier.fit(X_train, y_train)\n",
        "\n",
        "# Make predictions on the test data using Decision Tree\n",
        "y_pred_decision_tree = decision_tree_classifier.predict(X_test)\n",
        "\n",
        "# Calculate accuracy and print classification report for Decision Tree\n",
        "accuracy_decision_tree = accuracy_score(y_test, y_pred_decision_tree)\n",
        "report_decision_tree = classification_report(y_test, y_pred_decision_tree)\n",
        "\n",
        "print(\"Decision Tree Results:\")\n",
        "print(f\"Accuracy: {accuracy_decision_tree}\")\n",
        "print(\"Classification Report:\\n\", report_decision_tree)\n"
      ]
    },
    {
      "cell_type": "code",
      "execution_count": 71,
      "metadata": {
        "id": "B43cFtGMrJht"
      },
      "outputs": [
        {
          "name": "stdout",
          "output_type": "stream",
          "text": [
            "\n",
            "Model Performance Summary\n",
            "           Model Name Accuracy           Accuracy (%)\n",
            "-----------------------------------------------------------\n",
            "        Random Forest 0.99998093     -    99.9981 %\n",
            "    Gradient Boosting 0.99997139     -    99.9971 %\n",
            "  Logistic Regression 0.99995232     -    99.9952 %\n",
            "  K-Nearest Neighbors 0.99995232     -    99.9952 %\n",
            "                  SVC 0.99992371     -    99.9924 %\n",
            "        Decision Tree 0.99992371     -    99.9924 %\n"
          ]
        }
      ],
      "source": [
        "# ... your existing code for training and evaluating each model ...\n",
        "\n",
        "# Define a dictionary to store model names and their accuracies\n",
        "models = {\n",
        "    \"Logistic Regression\": accuracy_lr,\n",
        "    \"SVC\": accuracy,  # Assuming you have the accuracy for SVC stored in a variable\n",
        "    \"Random Forest\": accuracy_rf,\n",
        "    \"K-Nearest Neighbors\": accuracy_knn,  # Assuming you have the accuracy for KNN stored in a variable\n",
        "    \"Gradient Boosting\": accuracy_gb,  # Assuming you have the accuracy for Gradient Boosting stored in a variable\n",
        "    \"Decision Tree\": accuracy_decision_tree,  # Assuming you have the accuracy for Decision Tree stored in a variable\n",
        "}\n",
        "\n",
        "# Sort models dictionary by accuracy in descending order\n",
        "sorted_models = dict(sorted(models.items(), key=lambda item: item[1], reverse=True))\n",
        "\n",
        "# Get the maximum model name length for consistent formatting\n",
        "max_name_length = max(len(name) for name in sorted_models.keys())\n",
        "\n",
        "# Print the table header\n",
        "print(\"\\nModel Performance Summary\")\n",
        "print(f\"{'Model Name':>{max_name_length + 2}} {'Accuracy'}         {'  Accuracy (%)'}\")\n",
        "print(\"-\" * (max_name_length + 40))\n",
        "\n",
        "# Print entries from the sorted dictionary\n",
        "for name, accuracy in sorted_models.items():\n",
        "    print(f\"{name:>{max_name_length + 2}} {accuracy:.8f}{' -  ':>{len('Accuracy')}s}  {accuracy * 100:.4f} %\")\n"
      ]
    },
    {
      "cell_type": "code",
      "execution_count": 97,
      "metadata": {},
      "outputs": [
        {
          "data": {
            "image/png": "[encoded data removed]",
            "text/plain": [
              "<Figure size 864x360 with 1 Axes>"
            ]
          },
          "metadata": {
            "needs_background": "light"
          },
          "output_type": "display_data"
        }
      ],
      "source": [
        "import matplotlib.pyplot as plt\n",
        "\n",
        "# Extract model names and accuracies from the sorted dictionary\n",
        "model_names = list(sorted_models.keys())\n",
        "accuracies = list(sorted_models.values())\n",
        "\n",
        "# Create a line plot\n",
        "plt.figure(figsize=(12, 5))\n",
        "plt.plot(model_names, accuracies, marker='o', color='b', linestyle='-')\n",
        "\n",
        "# Add labels and title\n",
        "plt.xlabel('Model')\n",
        "plt.ylabel('Accuracy')\n",
        "plt.title('Model Performance Summary')\n",
        "\n",
        "# Rotate x-axis labels for better readability\n",
        "plt.xticks(rotation=45, ha='right')\n",
        "\n",
        "# Add accuracy values as text labels on each point\n",
        "for i, (name, acc) in enumerate(zip(model_names, accuracies)):\n",
        "    plt.text(i, acc, f'{acc:.4f}', ha='center', va='bottom')\n",
        "\n",
        "# Show grid lines\n",
        "plt.grid(True, linestyle='--', alpha=0.5)\n",
        "\n",
        "# Show the plot\n",
        "plt.tight_layout()\n",
        "plt.show()\n"
      ]
    },
    {
      "cell_type": "code",
      "execution_count": null,
      "metadata": {},
      "outputs": [],
      "source": []
    }
  ],
  "metadata": {
    "colab": {
      "provenance": []
    },
    "kernelspec": {
      "display_name": "Python 3",
      "name": "python3"
    },
    "language_info": {
      "codemirror_mode": {
        "name": "ipython",
        "version": 3
      },
      "file_extension": ".py",
      "mimetype": "text/x-python",
      "name": "python",
      "nbconvert_exporter": "python",
      "pygments_lexer": "ipython3",
      "version": "3.10.6"
    }
  },
  "nbformat": 4,
  "nbformat_minor": 0
}
